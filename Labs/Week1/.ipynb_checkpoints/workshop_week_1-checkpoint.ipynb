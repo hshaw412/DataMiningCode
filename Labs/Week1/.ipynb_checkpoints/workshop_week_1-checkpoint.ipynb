{
 "cells": [
  {
   "attachments": {},
   "cell_type": "markdown",
   "id": "30604f24-a61e-467f-969c-01a0dc9a7833",
   "metadata": {},
   "source": [
    "## 1.Python"
   ]
  },
  {
   "cell_type": "code",
   "execution_count": 1,
   "id": "e385c1ca-aeb5-4199-919b-ec4f98f3dea7",
   "metadata": {
    "execution": {
     "iopub.execute_input": "2022-07-19T23:07:37.496136Z",
     "iopub.status.busy": "2022-07-19T23:07:37.495691Z",
     "iopub.status.idle": "2022-07-19T23:07:37.520293Z",
     "shell.execute_reply": "2022-07-19T23:07:37.519576Z",
     "shell.execute_reply.started": "2022-07-19T23:07:37.496016Z"
    }
   },
   "outputs": [
    {
     "name": "stdout",
     "output_type": "stream",
     "text": [
      "0\n"
     ]
    }
   ],
   "source": [
    "var=0\n",
    "print(var)"
   ]
  },
  {
   "attachments": {},
   "cell_type": "markdown",
   "id": "e358c490-7cd7-49cb-a154-a623e81b5577",
   "metadata": {},
   "source": [
    "**Variable assignment**: Here we create a variable called var and assign it the value of 0 using =, which is called the assignment operator.<br>\n",
    "**Function calls**: print() is a Python function that displays the value passed to it on the screen. We call functions by putting parentheses after their name, and putting the inputs (or arguments) to the function in those parentheses."
   ]
  },
  {
   "cell_type": "code",
   "execution_count": 2,
   "id": "b4043fa6-c0bb-4f7a-a9a7-f556595b4534",
   "metadata": {
    "execution": {
     "iopub.execute_input": "2022-07-19T23:52:48.563862Z",
     "iopub.status.busy": "2022-07-19T23:52:48.563430Z",
     "iopub.status.idle": "2022-07-19T23:52:48.567001Z",
     "shell.execute_reply": "2022-07-19T23:52:48.566560Z",
     "shell.execute_reply.started": "2022-07-19T23:52:48.563840Z"
    }
   },
   "outputs": [
    {
     "name": "stdout",
     "output_type": "stream",
     "text": [
      "false\n"
     ]
    }
   ],
   "source": [
    "if var>0:\n",
    "    print('var>0')\n",
    "else:\n",
    "    print('false')"
   ]
  },
  {
   "attachments": {},
   "cell_type": "markdown",
   "id": "b8a37466-96c8-48a8-8114-00d5bacac3d1",
   "metadata": {},
   "source": [
    "**if else**: determine which code block to execute<br>\n",
    "**Code block**: The colon (:) at the end of the if line indicates that a new code block is starting. Subsequent lines which are indented are part of that code block<br>\n",
    "**String**: any character marked with single or double quotations"
   ]
  },
  {
   "cell_type": "code",
   "execution_count": 3,
   "id": "bd269539-de8f-403a-8888-7c0c7d8fb5ee",
   "metadata": {
    "execution": {
     "iopub.execute_input": "2022-07-19T23:58:53.444693Z",
     "iopub.status.busy": "2022-07-19T23:58:53.444181Z",
     "iopub.status.idle": "2022-07-19T23:58:53.460116Z",
     "shell.execute_reply": "2022-07-19T23:58:53.459763Z",
     "shell.execute_reply.started": "2022-07-19T23:58:53.444660Z"
    }
   },
   "outputs": [
    {
     "data": {
      "text/plain": [
       "int"
      ]
     },
     "execution_count": 3,
     "metadata": {},
     "output_type": "execute_result"
    }
   ],
   "source": [
    "type(var)"
   ]
  },
  {
   "cell_type": "code",
   "execution_count": 4,
   "id": "d089fd51-9999-442f-a147-638237f805e1",
   "metadata": {
    "execution": {
     "iopub.execute_input": "2022-07-19T23:59:23.611565Z",
     "iopub.status.busy": "2022-07-19T23:59:23.610822Z",
     "iopub.status.idle": "2022-07-19T23:59:23.615339Z",
     "shell.execute_reply": "2022-07-19T23:59:23.614867Z",
     "shell.execute_reply.started": "2022-07-19T23:59:23.611534Z"
    }
   },
   "outputs": [
    {
     "data": {
      "text/plain": [
       "float"
      ]
     },
     "execution_count": 4,
     "metadata": {},
     "output_type": "execute_result"
    }
   ],
   "source": [
    "var_float=0.3\n",
    "type(var_float)"
   ]
  },
  {
   "cell_type": "code",
   "execution_count": 5,
   "id": "08aa7cf3-43f1-485f-b7fc-fba90912e490",
   "metadata": {
    "execution": {
     "iopub.execute_input": "2022-07-19T23:59:45.021107Z",
     "iopub.status.busy": "2022-07-19T23:59:45.020013Z",
     "iopub.status.idle": "2022-07-19T23:59:45.025387Z",
     "shell.execute_reply": "2022-07-19T23:59:45.024732Z",
     "shell.execute_reply.started": "2022-07-19T23:59:45.021043Z"
    }
   },
   "outputs": [
    {
     "data": {
      "text/plain": [
       "str"
      ]
     },
     "execution_count": 5,
     "metadata": {},
     "output_type": "execute_result"
    }
   ],
   "source": [
    "type('string')"
   ]
  },
  {
   "cell_type": "code",
   "execution_count": 6,
   "id": "2174f7a6-b53d-441c-a110-0fc1c1991cc6",
   "metadata": {
    "execution": {
     "iopub.execute_input": "2022-07-20T00:02:21.604408Z",
     "iopub.status.busy": "2022-07-20T00:02:21.603914Z",
     "iopub.status.idle": "2022-07-20T00:02:21.609795Z",
     "shell.execute_reply": "2022-07-20T00:02:21.608880Z",
     "shell.execute_reply.started": "2022-07-20T00:02:21.604372Z"
    }
   },
   "outputs": [
    {
     "name": "stdout",
     "output_type": "stream",
     "text": [
      "8\n",
      "2\n",
      "15\n",
      "1.6666666666666667\n",
      "125\n",
      "-5\n"
     ]
    }
   ],
   "source": [
    "print(3+5)\n",
    "print(5-3)\n",
    "print(5*3)\n",
    "print(5/3)\n",
    "print(5**3)\n",
    "print(-5)"
   ]
  },
  {
   "attachments": {},
   "cell_type": "markdown",
   "id": "c47c86e1-39f5-413c-812c-c1f94b4ae8c0",
   "metadata": {
    "execution": {
     "iopub.execute_input": "2022-07-20T00:03:48.875077Z",
     "iopub.status.busy": "2022-07-20T00:03:48.874769Z",
     "iopub.status.idle": "2022-07-20T00:03:48.879648Z",
     "shell.execute_reply": "2022-07-20T00:03:48.878890Z",
     "shell.execute_reply.started": "2022-07-20T00:03:48.875052Z"
    }
   },
   "source": [
    "**arithmetic**: simple arithmetic like addtion, substraction, multiplication, division<br>\n",
    "\n",
    "|Operator\t|Name\t|Description|\n",
    "|---|---|---|\n",
    "|a + b\t|Addition|\tSum of a and b|\n",
    "|a - b\t|Subtraction\t|Difference of a and b\n",
    "|a * b\t|Multiplication\t|Product of a and b\n",
    "|a / b\t|True division\t|Quotient of a and b\n",
    "|a // b\t|Floor division\t|Quotient of a and b, removing fractional parts\n",
    "|a % b\t|Modulus\t|Integer remainder after division of a by b\n",
    "|a ** b\t|Exponentiation\t|a raised to the power of b\n",
    "|-a\t|Negation\t|The negative of a"
   ]
  },
  {
   "cell_type": "code",
   "execution_count": 10,
   "id": "ecf47ee8-949c-49ef-8911-a35c23cbeaa9",
   "metadata": {
    "execution": {
     "iopub.execute_input": "2022-07-20T00:08:54.151736Z",
     "iopub.status.busy": "2022-07-20T00:08:54.151388Z",
     "iopub.status.idle": "2022-07-20T00:08:54.157125Z",
     "shell.execute_reply": "2022-07-20T00:08:54.156494Z",
     "shell.execute_reply.started": "2022-07-20T00:08:54.151695Z"
    }
   },
   "outputs": [
    {
     "name": "stdout",
     "output_type": "stream",
     "text": [
      "1\n",
      "3\n"
     ]
    }
   ],
   "source": [
    "print(min(1, 2, 3))\n",
    "print(max([1, 2, 3]))\n"
   ]
  },
  {
   "attachments": {},
   "cell_type": "markdown",
   "id": "cbad4d66-6175-4252-b061-8c9958104b48",
   "metadata": {},
   "source": [
    "min() and max() are builtin functions<br>\n",
    "can accept multiple numbers or a list"
   ]
  },
  {
   "cell_type": "code",
   "execution_count": 13,
   "id": "77532f4b-f4c5-4e7e-b64b-6d51a42ade93",
   "metadata": {
    "execution": {
     "iopub.execute_input": "2022-07-20T00:12:12.687601Z",
     "iopub.status.busy": "2022-07-20T00:12:12.687384Z",
     "iopub.status.idle": "2022-07-20T00:12:12.694754Z",
     "shell.execute_reply": "2022-07-20T00:12:12.694097Z",
     "shell.execute_reply.started": "2022-07-20T00:12:12.687578Z"
    }
   },
   "outputs": [
    {
     "name": "stdout",
     "output_type": "stream",
     "text": [
      "[1, 2, 3]\n",
      "[1, 2, 3, 4]\n",
      "4\n"
     ]
    }
   ],
   "source": [
    "list_a = [1,2,3]\n",
    "print(list_a)\n",
    "list_a.append(4)\n",
    "print(list_a)\n",
    "print(max(list_a))"
   ]
  },
  {
   "cell_type": "code",
   "execution_count": 15,
   "id": "ad86f800-fe80-4463-984c-b76e577c1003",
   "metadata": {
    "execution": {
     "iopub.execute_input": "2022-07-20T00:12:58.547584Z",
     "iopub.status.busy": "2022-07-20T00:12:58.547339Z",
     "iopub.status.idle": "2022-07-20T00:12:58.552146Z",
     "shell.execute_reply": "2022-07-20T00:12:58.551318Z",
     "shell.execute_reply.started": "2022-07-20T00:12:58.547563Z"
    }
   },
   "outputs": [
    {
     "name": "stdout",
     "output_type": "stream",
     "text": [
      "['Mercury', 'Venus', 'Earth', 'Mars', 'Jupiter', 'Saturn', 'Uranus', 'Neptune']\n"
     ]
    }
   ],
   "source": [
    "planets = ['Mercury', 'Venus', 'Earth', 'Mars', 'Jupiter', 'Saturn', 'Uranus', 'Neptune']\n",
    "print(planets)"
   ]
  },
  {
   "cell_type": "code",
   "execution_count": 22,
   "id": "342fd7f4-6b81-479d-9f18-d28f69cca8e3",
   "metadata": {
    "execution": {
     "iopub.execute_input": "2022-07-20T00:18:29.097128Z",
     "iopub.status.busy": "2022-07-20T00:18:29.096598Z",
     "iopub.status.idle": "2022-07-20T00:18:29.105442Z",
     "shell.execute_reply": "2022-07-20T00:18:29.104811Z",
     "shell.execute_reply.started": "2022-07-20T00:18:29.097100Z"
    }
   },
   "outputs": [
    {
     "data": {
      "text/plain": [
       "8"
      ]
     },
     "execution_count": 22,
     "metadata": {},
     "output_type": "execute_result"
    }
   ],
   "source": [
    "len(planets)"
   ]
  },
  {
   "cell_type": "code",
   "execution_count": 23,
   "id": "6f6eace0-41af-4458-ad53-e44baafe67d7",
   "metadata": {
    "execution": {
     "iopub.execute_input": "2022-07-20T00:18:38.973458Z",
     "iopub.status.busy": "2022-07-20T00:18:38.972966Z",
     "iopub.status.idle": "2022-07-20T00:18:38.979651Z",
     "shell.execute_reply": "2022-07-20T00:18:38.978845Z",
     "shell.execute_reply.started": "2022-07-20T00:18:38.973426Z"
    }
   },
   "outputs": [
    {
     "data": {
      "text/plain": [
       "['Earth', 'Jupiter', 'Mars', 'Mercury', 'Neptune', 'Saturn', 'Uranus', 'Venus']"
      ]
     },
     "execution_count": 23,
     "metadata": {},
     "output_type": "execute_result"
    }
   ],
   "source": [
    "sorted(planets)"
   ]
  },
  {
   "attachments": {},
   "cell_type": "markdown",
   "id": "c265a0be-7d48-471f-a3f6-6ab05bc2936c",
   "metadata": {},
   "source": [
    "planets sorted in alphabetical order"
   ]
  },
  {
   "cell_type": "code",
   "execution_count": 24,
   "id": "227271cb-63d9-43b5-9581-52ab83c19158",
   "metadata": {
    "execution": {
     "iopub.execute_input": "2022-07-20T00:20:08.229643Z",
     "iopub.status.busy": "2022-07-20T00:20:08.229398Z",
     "iopub.status.idle": "2022-07-20T00:20:08.233772Z",
     "shell.execute_reply": "2022-07-20T00:20:08.232867Z",
     "shell.execute_reply.started": "2022-07-20T00:20:08.229611Z"
    }
   },
   "outputs": [
    {
     "data": {
      "text/plain": [
       "17"
      ]
     },
     "execution_count": 24,
     "metadata": {},
     "output_type": "execute_result"
    }
   ],
   "source": [
    "primes = [2, 3, 5, 7]\n",
    "sum(primes)"
   ]
  },
  {
   "cell_type": "code",
   "execution_count": 25,
   "id": "23bd4754-41ba-4c05-be04-7b3e97011dfa",
   "metadata": {
    "execution": {
     "iopub.execute_input": "2022-07-20T00:20:48.493415Z",
     "iopub.status.busy": "2022-07-20T00:20:48.493152Z",
     "iopub.status.idle": "2022-07-20T00:20:48.499593Z",
     "shell.execute_reply": "2022-07-20T00:20:48.498143Z",
     "shell.execute_reply.started": "2022-07-20T00:20:48.493389Z"
    }
   },
   "outputs": [
    {
     "data": {
      "text/plain": [
       "'Neptune'"
      ]
     },
     "execution_count": 25,
     "metadata": {},
     "output_type": "execute_result"
    }
   ],
   "source": [
    "planets.pop()"
   ]
  },
  {
   "attachments": {},
   "cell_type": "markdown",
   "id": "22dbf303-a99d-4f0c-9d24-7c2c908061d2",
   "metadata": {},
   "source": [
    "pop() removes and returns the last element of a list:"
   ]
  },
  {
   "cell_type": "code",
   "execution_count": 26,
   "id": "6bb2aa2b-346c-4d9b-a730-639cfafced1d",
   "metadata": {
    "execution": {
     "iopub.execute_input": "2022-07-20T00:21:00.038085Z",
     "iopub.status.busy": "2022-07-20T00:21:00.037812Z",
     "iopub.status.idle": "2022-07-20T00:21:00.043355Z",
     "shell.execute_reply": "2022-07-20T00:21:00.042498Z",
     "shell.execute_reply.started": "2022-07-20T00:21:00.038061Z"
    }
   },
   "outputs": [
    {
     "data": {
      "text/plain": [
       "'Uranus'"
      ]
     },
     "execution_count": 26,
     "metadata": {},
     "output_type": "execute_result"
    }
   ],
   "source": [
    "planets.pop()"
   ]
  },
  {
   "cell_type": "code",
   "execution_count": 27,
   "id": "a373e4c3-f8b5-431b-bb36-664c7682ff75",
   "metadata": {
    "execution": {
     "iopub.execute_input": "2022-07-20T00:21:10.835826Z",
     "iopub.status.busy": "2022-07-20T00:21:10.835271Z",
     "iopub.status.idle": "2022-07-20T00:21:10.840162Z",
     "shell.execute_reply": "2022-07-20T00:21:10.839774Z",
     "shell.execute_reply.started": "2022-07-20T00:21:10.835798Z"
    }
   },
   "outputs": [
    {
     "data": {
      "text/plain": [
       "['Mercury', 'Venus', 'Earth', 'Mars', 'Jupiter', 'Saturn']"
      ]
     },
     "execution_count": 27,
     "metadata": {},
     "output_type": "execute_result"
    }
   ],
   "source": [
    "planets"
   ]
  },
  {
   "attachments": {},
   "cell_type": "markdown",
   "id": "0e225be4-91db-4809-8e9b-1ffd84426486",
   "metadata": {},
   "source": [
    "using for loop to calculate the sum of elements in list a"
   ]
  },
  {
   "cell_type": "code",
   "execution_count": 10,
   "id": "7bf591c1",
   "metadata": {},
   "outputs": [
    {
     "name": "stdout",
     "output_type": "stream",
     "text": [
      "6\n"
     ]
    }
   ],
   "source": [
    "# using for loop to calculate the sum of elements in list a\n",
    "list_a = [1,2,3]\n",
    "s = 0\n",
    "for i in list_a:\n",
    "    s += i\n",
    "print(s)"
   ]
  },
  {
   "attachments": {},
   "cell_type": "markdown",
   "id": "1609b951-90a4-49e4-bc96-bd071040dc69",
   "metadata": {},
   "source": [
    "**List comprehension**: fast and easy to use, save a lot of effort in typing"
   ]
  },
  {
   "cell_type": "code",
   "execution_count": 11,
   "id": "e376b423-6b02-4edb-a125-3908060e4916",
   "metadata": {
    "execution": {
     "iopub.execute_input": "2022-07-20T00:28:31.649968Z",
     "iopub.status.busy": "2022-07-20T00:28:31.648988Z",
     "iopub.status.idle": "2022-07-20T00:28:31.654618Z",
     "shell.execute_reply": "2022-07-20T00:28:31.654248Z",
     "shell.execute_reply.started": "2022-07-20T00:28:31.649935Z"
    }
   },
   "outputs": [
    {
     "data": {
      "text/plain": [
       "6"
      ]
     },
     "execution_count": 11,
     "metadata": {},
     "output_type": "execute_result"
    }
   ],
   "source": [
    "# use list comprehension to calculate the sum of elements in list a\n",
    "list_a = [1,2,3]\n",
    "sum([i for i in list_a])\n"
   ]
  },
  {
   "attachments": {},
   "cell_type": "markdown",
   "id": "15c9c9c1-bddf-4937-aacc-8d9ef2af09ad",
   "metadata": {
    "execution": {
     "iopub.execute_input": "2022-07-20T00:35:33.107812Z",
     "iopub.status.busy": "2022-07-20T00:35:33.107560Z",
     "iopub.status.idle": "2022-07-20T00:35:33.112220Z",
     "shell.execute_reply": "2022-07-20T00:35:33.111390Z",
     "shell.execute_reply.started": "2022-07-20T00:35:33.107789Z"
    }
   },
   "source": [
    "**Function**: accept inputs arguments and return the output value."
   ]
  },
  {
   "cell_type": "code",
   "execution_count": null,
   "id": "0c63caed-fbfe-4994-bfd9-1ea5a2b48a30",
   "metadata": {},
   "outputs": [],
   "source": [
    "#how to define a function in python\n",
    "def add(x,y):\n",
    "    return x+y\n",
    "add(1,2)"
   ]
  },
  {
   "attachments": {},
   "cell_type": "markdown",
   "id": "7eea5159",
   "metadata": {},
   "source": [
    "**Class:** How to define a class in python"
   ]
  },
  {
   "cell_type": "code",
   "execution_count": 12,
   "id": "73f69e59",
   "metadata": {},
   "outputs": [
    {
     "data": {
      "text/plain": [
       "3.0"
      ]
     },
     "execution_count": 12,
     "metadata": {},
     "output_type": "execute_result"
    }
   ],
   "source": [
    "#how to define a class in python\n",
    "class Calculator:\n",
    "    def __init__(self, data):\n",
    "        self.data = data\n",
    "    def sum(self):\n",
    "        s = 0\n",
    "        for i in self.data:\n",
    "            s += i\n",
    "        return s\n",
    "    def avg(self):\n",
    "        s = 0\n",
    "        for i in self.data:\n",
    "            s += i\n",
    "        return s/len(self.data)\n",
    "cal1 = Calculator([1,2,3,4,5])\n",
    "cal1.sum()"
   ]
  },
  {
   "cell_type": "code",
   "execution_count": 13,
   "id": "948f30c1",
   "metadata": {},
   "outputs": [
    {
     "data": {
      "text/plain": [
       "15"
      ]
     },
     "execution_count": 13,
     "metadata": {},
     "output_type": "execute_result"
    }
   ],
   "source": [
    "cal1.sum()"
   ]
  },
  {
   "cell_type": "code",
   "execution_count": 14,
   "id": "fc02d9dc",
   "metadata": {},
   "outputs": [
    {
     "data": {
      "text/plain": [
       "3.0"
      ]
     },
     "execution_count": 14,
     "metadata": {},
     "output_type": "execute_result"
    }
   ],
   "source": [
    "cal1.avg()"
   ]
  },
  {
   "attachments": {},
   "cell_type": "markdown",
   "id": "4d95e055-db1e-4bb1-bca7-c086030f3c7d",
   "metadata": {},
   "source": [
    "## 2.Numpy"
   ]
  },
  {
   "cell_type": "code",
   "execution_count": 35,
   "id": "1462df7a-b383-4446-8f99-54ff4fcfc107",
   "metadata": {
    "execution": {
     "iopub.execute_input": "2022-07-20T00:39:56.423595Z",
     "iopub.status.busy": "2022-07-20T00:39:56.423338Z",
     "iopub.status.idle": "2022-07-20T00:39:56.426928Z",
     "shell.execute_reply": "2022-07-20T00:39:56.426372Z",
     "shell.execute_reply.started": "2022-07-20T00:39:56.423569Z"
    }
   },
   "outputs": [],
   "source": [
    "import numpy as np"
   ]
  },
  {
   "cell_type": "code",
   "execution_count": 37,
   "id": "2c82ffe5-b42f-4502-bc42-c326bc54cbb8",
   "metadata": {
    "execution": {
     "iopub.execute_input": "2022-07-20T00:40:22.023922Z",
     "iopub.status.busy": "2022-07-20T00:40:22.023706Z",
     "iopub.status.idle": "2022-07-20T00:40:22.031442Z",
     "shell.execute_reply": "2022-07-20T00:40:22.030704Z",
     "shell.execute_reply.started": "2022-07-20T00:40:22.023899Z"
    }
   },
   "outputs": [
    {
     "name": "stdout",
     "output_type": "stream",
     "text": [
      "[0.46235374 0.20385022 0.15921245 0.49433629 0.46028387 0.08910225\n",
      " 0.48453871 0.0680307  0.13686749 0.06963446]\n"
     ]
    }
   ],
   "source": [
    "a=np.random.rand(10)\n",
    "print(a)"
   ]
  },
  {
   "cell_type": "code",
   "execution_count": 38,
   "id": "e63a276d-7f84-46cd-94b2-d7a09c904ffd",
   "metadata": {
    "execution": {
     "iopub.execute_input": "2022-07-20T00:44:22.182555Z",
     "iopub.status.busy": "2022-07-20T00:44:22.182273Z",
     "iopub.status.idle": "2022-07-20T00:44:22.188204Z",
     "shell.execute_reply": "2022-07-20T00:44:22.187583Z",
     "shell.execute_reply.started": "2022-07-20T00:44:22.182528Z"
    }
   },
   "outputs": [
    {
     "data": {
      "text/plain": [
       "array([0, 1, 2, 3, 4, 5, 6, 7, 8, 9])"
      ]
     },
     "execution_count": 38,
     "metadata": {},
     "output_type": "execute_result"
    }
   ],
   "source": [
    "a=np.arange(10)\n",
    "a"
   ]
  },
  {
   "cell_type": "code",
   "execution_count": 39,
   "id": "8bc279df-c36e-4a0d-8b4a-986945664cc0",
   "metadata": {
    "execution": {
     "iopub.execute_input": "2022-07-20T00:44:32.757380Z",
     "iopub.status.busy": "2022-07-20T00:44:32.756852Z",
     "iopub.status.idle": "2022-07-20T00:44:32.761905Z",
     "shell.execute_reply": "2022-07-20T00:44:32.761344Z",
     "shell.execute_reply.started": "2022-07-20T00:44:32.757354Z"
    }
   },
   "outputs": [
    {
     "data": {
      "text/plain": [
       "array([3, 4, 5])"
      ]
     },
     "execution_count": 39,
     "metadata": {},
     "output_type": "execute_result"
    }
   ],
   "source": [
    "a[3:6]"
   ]
  },
  {
   "cell_type": "code",
   "execution_count": 40,
   "id": "e2d2a44f-202f-4b30-bfc4-866c6d8fd07f",
   "metadata": {
    "execution": {
     "iopub.execute_input": "2022-07-20T00:44:46.773503Z",
     "iopub.status.busy": "2022-07-20T00:44:46.772609Z",
     "iopub.status.idle": "2022-07-20T00:44:46.777667Z",
     "shell.execute_reply": "2022-07-20T00:44:46.777111Z",
     "shell.execute_reply.started": "2022-07-20T00:44:46.773466Z"
    }
   },
   "outputs": [
    {
     "data": {
      "text/plain": [
       "9"
      ]
     },
     "execution_count": 40,
     "metadata": {},
     "output_type": "execute_result"
    }
   ],
   "source": [
    "a[-1]"
   ]
  },
  {
   "cell_type": "code",
   "execution_count": 41,
   "id": "8b34bdd7-8153-43f9-aa75-6878b50985e0",
   "metadata": {
    "execution": {
     "iopub.execute_input": "2022-07-20T00:49:23.829676Z",
     "iopub.status.busy": "2022-07-20T00:49:23.828869Z",
     "iopub.status.idle": "2022-07-20T00:49:23.833973Z",
     "shell.execute_reply": "2022-07-20T00:49:23.833393Z",
     "shell.execute_reply.started": "2022-07-20T00:49:23.829645Z"
    }
   },
   "outputs": [
    {
     "data": {
      "text/plain": [
       "4.5"
      ]
     },
     "execution_count": 41,
     "metadata": {},
     "output_type": "execute_result"
    }
   ],
   "source": [
    "a.mean()"
   ]
  },
  {
   "cell_type": "code",
   "execution_count": 42,
   "id": "7ceec2e1-b995-4334-80dd-5b90ce8c20bd",
   "metadata": {
    "execution": {
     "iopub.execute_input": "2022-07-20T00:49:26.379253Z",
     "iopub.status.busy": "2022-07-20T00:49:26.378993Z",
     "iopub.status.idle": "2022-07-20T00:49:26.384869Z",
     "shell.execute_reply": "2022-07-20T00:49:26.384236Z",
     "shell.execute_reply.started": "2022-07-20T00:49:26.379227Z"
    }
   },
   "outputs": [
    {
     "data": {
      "text/plain": [
       "2.8722813232690143"
      ]
     },
     "execution_count": 42,
     "metadata": {},
     "output_type": "execute_result"
    }
   ],
   "source": [
    "a.std()"
   ]
  },
  {
   "cell_type": "code",
   "execution_count": 2,
   "id": "4b0525ef",
   "metadata": {},
   "outputs": [
    {
     "name": "stdout",
     "output_type": "stream",
     "text": [
      "[[1 2 3]\n",
      " [4 5 6]\n",
      " [7 8 9]]\n",
      "[[1 4 7]\n",
      " [2 5 8]\n",
      " [3 6 9]]\n",
      "[[ 66  78  90]\n",
      " [ 78  93 108]\n",
      " [ 90 108 126]]\n"
     ]
    }
   ],
   "source": [
    "import numpy as np\n",
    "a=np.array([[1,2,3],[4,5,6],[7,8,9]])\n",
    "print(a)\n",
    "print(a.T)\n",
    "print(a.T.dot(a))"
   ]
  },
  {
   "cell_type": "code",
   "execution_count": 15,
   "id": "5cb4d34f",
   "metadata": {},
   "outputs": [
    {
     "name": "stdout",
     "output_type": "stream",
     "text": [
      "0.9746318461970762\n"
     ]
    }
   ],
   "source": [
    "# how to use numpy to calculate the cosine distance between two vectors\n",
    "import numpy as np\n",
    "a=np.array([1,2,3])\n",
    "b=np.array([4,5,6])\n",
    "# here, the equation of cosine distance is: (a dot b)/(|a|*|b|)\n",
    "# we can use np.linalg.norm() to calculate the norm of a vector, the norm is the euclidean distance of the vector (l2 norm)\n",
    "print(a.dot(b)/(np.linalg.norm(a)*np.linalg.norm(b)))\n"
   ]
  },
  {
   "attachments": {},
   "cell_type": "markdown",
   "id": "77da9bb0-1551-498a-b11d-376cf7d78d30",
   "metadata": {},
   "source": [
    "## 3.Pandas"
   ]
  },
  {
   "cell_type": "code",
   "execution_count": 16,
   "id": "e4661aab-03d4-48ec-8804-c063fecf8d43",
   "metadata": {
    "execution": {
     "iopub.execute_input": "2022-07-20T00:53:36.736822Z",
     "iopub.status.busy": "2022-07-20T00:53:36.736622Z",
     "iopub.status.idle": "2022-07-20T00:53:37.617636Z",
     "shell.execute_reply": "2022-07-20T00:53:37.616781Z",
     "shell.execute_reply.started": "2022-07-20T00:53:36.736802Z"
    }
   },
   "outputs": [],
   "source": [
    "import pandas as pd"
   ]
  },
  {
   "cell_type": "code",
   "execution_count": 17,
   "id": "c1881d13-79f3-4646-8033-de0719514239",
   "metadata": {
    "execution": {
     "iopub.execute_input": "2022-07-20T01:00:10.884591Z",
     "iopub.status.busy": "2022-07-20T01:00:10.883992Z",
     "iopub.status.idle": "2022-07-20T01:00:10.907265Z",
     "shell.execute_reply": "2022-07-20T01:00:10.906849Z",
     "shell.execute_reply.started": "2022-07-20T01:00:10.884540Z"
    }
   },
   "outputs": [
    {
     "ename": "FileNotFoundError",
     "evalue": "[Errno 2] No such file or directory: '../data/bank.csv'",
     "output_type": "error",
     "traceback": [
      "\u001b[0;31m---------------------------------------------------------------------------\u001b[0m",
      "\u001b[0;31mFileNotFoundError\u001b[0m                         Traceback (most recent call last)",
      "\u001b[0;32m/var/folders/gn/8qmb51lj57vbnf9t2dn38kdc0000gn/T/ipykernel_47591/2909009469.py\u001b[0m in \u001b[0;36m<module>\u001b[0;34m\u001b[0m\n\u001b[0;32m----> 1\u001b[0;31m \u001b[0mdf\u001b[0m\u001b[0;34m=\u001b[0m\u001b[0mpd\u001b[0m\u001b[0;34m.\u001b[0m\u001b[0mread_csv\u001b[0m\u001b[0;34m(\u001b[0m\u001b[0;34m'../data/bank.csv'\u001b[0m\u001b[0;34m,\u001b[0m\u001b[0msep\u001b[0m\u001b[0;34m=\u001b[0m\u001b[0;34m';'\u001b[0m\u001b[0;34m)\u001b[0m\u001b[0;34m\u001b[0m\u001b[0;34m\u001b[0m\u001b[0m\n\u001b[0m\u001b[1;32m      2\u001b[0m \u001b[0mdf\u001b[0m\u001b[0;34m.\u001b[0m\u001b[0mhead\u001b[0m\u001b[0;34m(\u001b[0m\u001b[0;34m)\u001b[0m\u001b[0;34m\u001b[0m\u001b[0;34m\u001b[0m\u001b[0m\n",
      "\u001b[0;32m~/opt/miniconda3/lib/python3.9/site-packages/pandas/io/parsers/readers.py\u001b[0m in \u001b[0;36mread_csv\u001b[0;34m(filepath_or_buffer, sep, delimiter, header, names, index_col, usecols, dtype, engine, converters, true_values, false_values, skipinitialspace, skiprows, skipfooter, nrows, na_values, keep_default_na, na_filter, verbose, skip_blank_lines, parse_dates, infer_datetime_format, keep_date_col, date_parser, date_format, dayfirst, cache_dates, iterator, chunksize, compression, thousands, decimal, lineterminator, quotechar, quoting, doublequote, escapechar, comment, encoding, encoding_errors, dialect, on_bad_lines, delim_whitespace, low_memory, memory_map, float_precision, storage_options, dtype_backend)\u001b[0m\n\u001b[1;32m    910\u001b[0m     \u001b[0mkwds\u001b[0m\u001b[0;34m.\u001b[0m\u001b[0mupdate\u001b[0m\u001b[0;34m(\u001b[0m\u001b[0mkwds_defaults\u001b[0m\u001b[0;34m)\u001b[0m\u001b[0;34m\u001b[0m\u001b[0;34m\u001b[0m\u001b[0m\n\u001b[1;32m    911\u001b[0m \u001b[0;34m\u001b[0m\u001b[0m\n\u001b[0;32m--> 912\u001b[0;31m     \u001b[0;32mreturn\u001b[0m \u001b[0m_read\u001b[0m\u001b[0;34m(\u001b[0m\u001b[0mfilepath_or_buffer\u001b[0m\u001b[0;34m,\u001b[0m \u001b[0mkwds\u001b[0m\u001b[0;34m)\u001b[0m\u001b[0;34m\u001b[0m\u001b[0;34m\u001b[0m\u001b[0m\n\u001b[0m\u001b[1;32m    913\u001b[0m \u001b[0;34m\u001b[0m\u001b[0m\n\u001b[1;32m    914\u001b[0m \u001b[0;34m\u001b[0m\u001b[0m\n",
      "\u001b[0;32m~/opt/miniconda3/lib/python3.9/site-packages/pandas/io/parsers/readers.py\u001b[0m in \u001b[0;36m_read\u001b[0;34m(filepath_or_buffer, kwds)\u001b[0m\n\u001b[1;32m    575\u001b[0m \u001b[0;34m\u001b[0m\u001b[0m\n\u001b[1;32m    576\u001b[0m     \u001b[0;31m# Create the parser.\u001b[0m\u001b[0;34m\u001b[0m\u001b[0;34m\u001b[0m\u001b[0;34m\u001b[0m\u001b[0m\n\u001b[0;32m--> 577\u001b[0;31m     \u001b[0mparser\u001b[0m \u001b[0;34m=\u001b[0m \u001b[0mTextFileReader\u001b[0m\u001b[0;34m(\u001b[0m\u001b[0mfilepath_or_buffer\u001b[0m\u001b[0;34m,\u001b[0m \u001b[0;34m**\u001b[0m\u001b[0mkwds\u001b[0m\u001b[0;34m)\u001b[0m\u001b[0;34m\u001b[0m\u001b[0;34m\u001b[0m\u001b[0m\n\u001b[0m\u001b[1;32m    578\u001b[0m \u001b[0;34m\u001b[0m\u001b[0m\n\u001b[1;32m    579\u001b[0m     \u001b[0;32mif\u001b[0m \u001b[0mchunksize\u001b[0m \u001b[0;32mor\u001b[0m \u001b[0miterator\u001b[0m\u001b[0;34m:\u001b[0m\u001b[0;34m\u001b[0m\u001b[0;34m\u001b[0m\u001b[0m\n",
      "\u001b[0;32m~/opt/miniconda3/lib/python3.9/site-packages/pandas/io/parsers/readers.py\u001b[0m in \u001b[0;36m__init__\u001b[0;34m(self, f, engine, **kwds)\u001b[0m\n\u001b[1;32m   1405\u001b[0m \u001b[0;34m\u001b[0m\u001b[0m\n\u001b[1;32m   1406\u001b[0m         \u001b[0mself\u001b[0m\u001b[0;34m.\u001b[0m\u001b[0mhandles\u001b[0m\u001b[0;34m:\u001b[0m \u001b[0mIOHandles\u001b[0m \u001b[0;34m|\u001b[0m \u001b[0;32mNone\u001b[0m \u001b[0;34m=\u001b[0m \u001b[0;32mNone\u001b[0m\u001b[0;34m\u001b[0m\u001b[0;34m\u001b[0m\u001b[0m\n\u001b[0;32m-> 1407\u001b[0;31m         \u001b[0mself\u001b[0m\u001b[0;34m.\u001b[0m\u001b[0m_engine\u001b[0m \u001b[0;34m=\u001b[0m \u001b[0mself\u001b[0m\u001b[0;34m.\u001b[0m\u001b[0m_make_engine\u001b[0m\u001b[0;34m(\u001b[0m\u001b[0mf\u001b[0m\u001b[0;34m,\u001b[0m \u001b[0mself\u001b[0m\u001b[0;34m.\u001b[0m\u001b[0mengine\u001b[0m\u001b[0;34m)\u001b[0m\u001b[0;34m\u001b[0m\u001b[0;34m\u001b[0m\u001b[0m\n\u001b[0m\u001b[1;32m   1408\u001b[0m \u001b[0;34m\u001b[0m\u001b[0m\n\u001b[1;32m   1409\u001b[0m     \u001b[0;32mdef\u001b[0m \u001b[0mclose\u001b[0m\u001b[0;34m(\u001b[0m\u001b[0mself\u001b[0m\u001b[0;34m)\u001b[0m \u001b[0;34m->\u001b[0m \u001b[0;32mNone\u001b[0m\u001b[0;34m:\u001b[0m\u001b[0;34m\u001b[0m\u001b[0;34m\u001b[0m\u001b[0m\n",
      "\u001b[0;32m~/opt/miniconda3/lib/python3.9/site-packages/pandas/io/parsers/readers.py\u001b[0m in \u001b[0;36m_make_engine\u001b[0;34m(self, f, engine)\u001b[0m\n\u001b[1;32m   1659\u001b[0m                 \u001b[0;32mif\u001b[0m \u001b[0;34m\"b\"\u001b[0m \u001b[0;32mnot\u001b[0m \u001b[0;32min\u001b[0m \u001b[0mmode\u001b[0m\u001b[0;34m:\u001b[0m\u001b[0;34m\u001b[0m\u001b[0;34m\u001b[0m\u001b[0m\n\u001b[1;32m   1660\u001b[0m                     \u001b[0mmode\u001b[0m \u001b[0;34m+=\u001b[0m \u001b[0;34m\"b\"\u001b[0m\u001b[0;34m\u001b[0m\u001b[0;34m\u001b[0m\u001b[0m\n\u001b[0;32m-> 1661\u001b[0;31m             self.handles = get_handle(\n\u001b[0m\u001b[1;32m   1662\u001b[0m                 \u001b[0mf\u001b[0m\u001b[0;34m,\u001b[0m\u001b[0;34m\u001b[0m\u001b[0;34m\u001b[0m\u001b[0m\n\u001b[1;32m   1663\u001b[0m                 \u001b[0mmode\u001b[0m\u001b[0;34m,\u001b[0m\u001b[0;34m\u001b[0m\u001b[0;34m\u001b[0m\u001b[0m\n",
      "\u001b[0;32m~/opt/miniconda3/lib/python3.9/site-packages/pandas/io/common.py\u001b[0m in \u001b[0;36mget_handle\u001b[0;34m(path_or_buf, mode, encoding, compression, memory_map, is_text, errors, storage_options)\u001b[0m\n\u001b[1;32m    857\u001b[0m         \u001b[0;32mif\u001b[0m \u001b[0mioargs\u001b[0m\u001b[0;34m.\u001b[0m\u001b[0mencoding\u001b[0m \u001b[0;32mand\u001b[0m \u001b[0;34m\"b\"\u001b[0m \u001b[0;32mnot\u001b[0m \u001b[0;32min\u001b[0m \u001b[0mioargs\u001b[0m\u001b[0;34m.\u001b[0m\u001b[0mmode\u001b[0m\u001b[0;34m:\u001b[0m\u001b[0;34m\u001b[0m\u001b[0;34m\u001b[0m\u001b[0m\n\u001b[1;32m    858\u001b[0m             \u001b[0;31m# Encoding\u001b[0m\u001b[0;34m\u001b[0m\u001b[0;34m\u001b[0m\u001b[0;34m\u001b[0m\u001b[0m\n\u001b[0;32m--> 859\u001b[0;31m             handle = open(\n\u001b[0m\u001b[1;32m    860\u001b[0m                 \u001b[0mhandle\u001b[0m\u001b[0;34m,\u001b[0m\u001b[0;34m\u001b[0m\u001b[0;34m\u001b[0m\u001b[0m\n\u001b[1;32m    861\u001b[0m                 \u001b[0mioargs\u001b[0m\u001b[0;34m.\u001b[0m\u001b[0mmode\u001b[0m\u001b[0;34m,\u001b[0m\u001b[0;34m\u001b[0m\u001b[0;34m\u001b[0m\u001b[0m\n",
      "\u001b[0;31mFileNotFoundError\u001b[0m: [Errno 2] No such file or directory: '../data/bank.csv'"
     ]
    }
   ],
   "source": [
    "df=pd.read_csv('../data/bank.csv',sep=';')\n",
    "df.head()"
   ]
  },
  {
   "cell_type": "code",
   "execution_count": 69,
   "id": "4b8dc16a-344c-4478-b9ee-82b16b782847",
   "metadata": {
    "execution": {
     "iopub.execute_input": "2022-07-20T01:05:04.802225Z",
     "iopub.status.busy": "2022-07-20T01:05:04.801494Z",
     "iopub.status.idle": "2022-07-20T01:05:04.808185Z",
     "shell.execute_reply": "2022-07-20T01:05:04.807353Z",
     "shell.execute_reply.started": "2022-07-20T01:05:04.802192Z"
    }
   },
   "outputs": [
    {
     "data": {
      "text/plain": [
       "0          unemployed\n",
       "1            services\n",
       "2          management\n",
       "3          management\n",
       "4         blue-collar\n",
       "            ...      \n",
       "4516         services\n",
       "4517    self-employed\n",
       "4518       technician\n",
       "4519      blue-collar\n",
       "4520     entrepreneur\n",
       "Name: job, Length: 4521, dtype: object"
      ]
     },
     "execution_count": 69,
     "metadata": {},
     "output_type": "execute_result"
    }
   ],
   "source": [
    "df.job"
   ]
  },
  {
   "attachments": {},
   "cell_type": "markdown",
   "id": "097ccaef-633c-4e1e-a2ff-63bf1a44a077",
   "metadata": {},
   "source": [
    "we can use two way to access a property, or a column of a dataframe, the first is to use df.job, the second is to use df['job'] like a dictionary."
   ]
  },
  {
   "cell_type": "code",
   "execution_count": 73,
   "id": "0f09c371-4e80-4f1d-9ddc-864d58ba00cd",
   "metadata": {
    "execution": {
     "iopub.execute_input": "2022-07-20T01:07:48.125337Z",
     "iopub.status.busy": "2022-07-20T01:07:48.124829Z",
     "iopub.status.idle": "2022-07-20T01:07:48.140134Z",
     "shell.execute_reply": "2022-07-20T01:07:48.139747Z",
     "shell.execute_reply.started": "2022-07-20T01:07:48.125308Z"
    }
   },
   "outputs": [
    {
     "data": {
      "text/html": [
       "<div>\n",
       "<style scoped>\n",
       "    .dataframe tbody tr th:only-of-type {\n",
       "        vertical-align: middle;\n",
       "    }\n",
       "\n",
       "    .dataframe tbody tr th {\n",
       "        vertical-align: top;\n",
       "    }\n",
       "\n",
       "    .dataframe thead th {\n",
       "        text-align: right;\n",
       "    }\n",
       "</style>\n",
       "<table border=\"1\" class=\"dataframe\">\n",
       "  <thead>\n",
       "    <tr style=\"text-align: right;\">\n",
       "      <th></th>\n",
       "      <th>age</th>\n",
       "      <th>job</th>\n",
       "      <th>marital</th>\n",
       "      <th>education</th>\n",
       "      <th>default</th>\n",
       "      <th>balance</th>\n",
       "      <th>housing</th>\n",
       "      <th>loan</th>\n",
       "      <th>contact</th>\n",
       "      <th>day</th>\n",
       "      <th>month</th>\n",
       "      <th>duration</th>\n",
       "      <th>campaign</th>\n",
       "      <th>pdays</th>\n",
       "      <th>previous</th>\n",
       "      <th>poutcome</th>\n",
       "      <th>y</th>\n",
       "    </tr>\n",
       "  </thead>\n",
       "  <tbody>\n",
       "    <tr>\n",
       "      <th>0</th>\n",
       "      <td>30</td>\n",
       "      <td>unemployed</td>\n",
       "      <td>married</td>\n",
       "      <td>primary</td>\n",
       "      <td>no</td>\n",
       "      <td>1787</td>\n",
       "      <td>no</td>\n",
       "      <td>no</td>\n",
       "      <td>cellular</td>\n",
       "      <td>19</td>\n",
       "      <td>oct</td>\n",
       "      <td>79</td>\n",
       "      <td>1</td>\n",
       "      <td>-1</td>\n",
       "      <td>0</td>\n",
       "      <td>unknown</td>\n",
       "      <td>no</td>\n",
       "    </tr>\n",
       "    <tr>\n",
       "      <th>1</th>\n",
       "      <td>33</td>\n",
       "      <td>services</td>\n",
       "      <td>married</td>\n",
       "      <td>secondary</td>\n",
       "      <td>no</td>\n",
       "      <td>4789</td>\n",
       "      <td>yes</td>\n",
       "      <td>yes</td>\n",
       "      <td>cellular</td>\n",
       "      <td>11</td>\n",
       "      <td>may</td>\n",
       "      <td>220</td>\n",
       "      <td>1</td>\n",
       "      <td>339</td>\n",
       "      <td>4</td>\n",
       "      <td>failure</td>\n",
       "      <td>no</td>\n",
       "    </tr>\n",
       "    <tr>\n",
       "      <th>2</th>\n",
       "      <td>35</td>\n",
       "      <td>management</td>\n",
       "      <td>single</td>\n",
       "      <td>tertiary</td>\n",
       "      <td>no</td>\n",
       "      <td>1350</td>\n",
       "      <td>yes</td>\n",
       "      <td>no</td>\n",
       "      <td>cellular</td>\n",
       "      <td>16</td>\n",
       "      <td>apr</td>\n",
       "      <td>185</td>\n",
       "      <td>1</td>\n",
       "      <td>330</td>\n",
       "      <td>1</td>\n",
       "      <td>failure</td>\n",
       "      <td>no</td>\n",
       "    </tr>\n",
       "    <tr>\n",
       "      <th>3</th>\n",
       "      <td>30</td>\n",
       "      <td>management</td>\n",
       "      <td>married</td>\n",
       "      <td>tertiary</td>\n",
       "      <td>no</td>\n",
       "      <td>1476</td>\n",
       "      <td>yes</td>\n",
       "      <td>yes</td>\n",
       "      <td>unknown</td>\n",
       "      <td>3</td>\n",
       "      <td>jun</td>\n",
       "      <td>199</td>\n",
       "      <td>4</td>\n",
       "      <td>-1</td>\n",
       "      <td>0</td>\n",
       "      <td>unknown</td>\n",
       "      <td>no</td>\n",
       "    </tr>\n",
       "    <tr>\n",
       "      <th>4</th>\n",
       "      <td>59</td>\n",
       "      <td>blue-collar</td>\n",
       "      <td>married</td>\n",
       "      <td>secondary</td>\n",
       "      <td>no</td>\n",
       "      <td>0</td>\n",
       "      <td>yes</td>\n",
       "      <td>no</td>\n",
       "      <td>unknown</td>\n",
       "      <td>5</td>\n",
       "      <td>may</td>\n",
       "      <td>226</td>\n",
       "      <td>1</td>\n",
       "      <td>-1</td>\n",
       "      <td>0</td>\n",
       "      <td>unknown</td>\n",
       "      <td>no</td>\n",
       "    </tr>\n",
       "  </tbody>\n",
       "</table>\n",
       "</div>"
      ],
      "text/plain": [
       "   age          job  marital  education default  balance housing loan  \\\n",
       "0   30   unemployed  married    primary      no     1787      no   no   \n",
       "1   33     services  married  secondary      no     4789     yes  yes   \n",
       "2   35   management   single   tertiary      no     1350     yes   no   \n",
       "3   30   management  married   tertiary      no     1476     yes  yes   \n",
       "4   59  blue-collar  married  secondary      no        0     yes   no   \n",
       "\n",
       "    contact  day month  duration  campaign  pdays  previous poutcome   y  \n",
       "0  cellular   19   oct        79         1     -1         0  unknown  no  \n",
       "1  cellular   11   may       220         1    339         4  failure  no  \n",
       "2  cellular   16   apr       185         1    330         1  failure  no  \n",
       "3   unknown    3   jun       199         4     -1         0  unknown  no  \n",
       "4   unknown    5   may       226         1     -1         0  unknown  no  "
      ]
     },
     "execution_count": 73,
     "metadata": {},
     "output_type": "execute_result"
    }
   ],
   "source": [
    "df.iloc[0:5]"
   ]
  },
  {
   "cell_type": "code",
   "execution_count": 77,
   "id": "69d275e3-fa8b-4481-bf8c-548c17c53398",
   "metadata": {
    "execution": {
     "iopub.execute_input": "2022-07-20T01:08:59.901009Z",
     "iopub.status.busy": "2022-07-20T01:08:59.900047Z",
     "iopub.status.idle": "2022-07-20T01:08:59.913775Z",
     "shell.execute_reply": "2022-07-20T01:08:59.913269Z",
     "shell.execute_reply.started": "2022-07-20T01:08:59.900974Z"
    }
   },
   "outputs": [
    {
     "data": {
      "text/html": [
       "<div>\n",
       "<style scoped>\n",
       "    .dataframe tbody tr th:only-of-type {\n",
       "        vertical-align: middle;\n",
       "    }\n",
       "\n",
       "    .dataframe tbody tr th {\n",
       "        vertical-align: top;\n",
       "    }\n",
       "\n",
       "    .dataframe thead th {\n",
       "        text-align: right;\n",
       "    }\n",
       "</style>\n",
       "<table border=\"1\" class=\"dataframe\">\n",
       "  <thead>\n",
       "    <tr style=\"text-align: right;\">\n",
       "      <th></th>\n",
       "      <th>age</th>\n",
       "      <th>job</th>\n",
       "      <th>marital</th>\n",
       "      <th>education</th>\n",
       "      <th>default</th>\n",
       "      <th>balance</th>\n",
       "      <th>housing</th>\n",
       "      <th>loan</th>\n",
       "      <th>contact</th>\n",
       "      <th>day</th>\n",
       "      <th>month</th>\n",
       "      <th>duration</th>\n",
       "      <th>campaign</th>\n",
       "      <th>pdays</th>\n",
       "      <th>previous</th>\n",
       "      <th>poutcome</th>\n",
       "      <th>y</th>\n",
       "    </tr>\n",
       "  </thead>\n",
       "  <tbody>\n",
       "    <tr>\n",
       "      <th>4518</th>\n",
       "      <td>57</td>\n",
       "      <td>technician</td>\n",
       "      <td>married</td>\n",
       "      <td>secondary</td>\n",
       "      <td>no</td>\n",
       "      <td>295</td>\n",
       "      <td>no</td>\n",
       "      <td>no</td>\n",
       "      <td>cellular</td>\n",
       "      <td>19</td>\n",
       "      <td>aug</td>\n",
       "      <td>151</td>\n",
       "      <td>11</td>\n",
       "      <td>-1</td>\n",
       "      <td>0</td>\n",
       "      <td>unknown</td>\n",
       "      <td>no</td>\n",
       "    </tr>\n",
       "    <tr>\n",
       "      <th>4519</th>\n",
       "      <td>28</td>\n",
       "      <td>blue-collar</td>\n",
       "      <td>married</td>\n",
       "      <td>secondary</td>\n",
       "      <td>no</td>\n",
       "      <td>1137</td>\n",
       "      <td>no</td>\n",
       "      <td>no</td>\n",
       "      <td>cellular</td>\n",
       "      <td>6</td>\n",
       "      <td>feb</td>\n",
       "      <td>129</td>\n",
       "      <td>4</td>\n",
       "      <td>211</td>\n",
       "      <td>3</td>\n",
       "      <td>other</td>\n",
       "      <td>no</td>\n",
       "    </tr>\n",
       "  </tbody>\n",
       "</table>\n",
       "</div>"
      ],
      "text/plain": [
       "      age          job  marital  education default  balance housing loan  \\\n",
       "4518   57   technician  married  secondary      no      295      no   no   \n",
       "4519   28  blue-collar  married  secondary      no     1137      no   no   \n",
       "\n",
       "       contact  day month  duration  campaign  pdays  previous poutcome   y  \n",
       "4518  cellular   19   aug       151        11     -1         0  unknown  no  \n",
       "4519  cellular    6   feb       129         4    211         3    other  no  "
      ]
     },
     "execution_count": 77,
     "metadata": {},
     "output_type": "execute_result"
    }
   ],
   "source": [
    "df.iloc[-3:-1]"
   ]
  },
  {
   "cell_type": "code",
   "execution_count": 83,
   "id": "d4322190-4aad-489a-b476-b02b888ec950",
   "metadata": {
    "execution": {
     "iopub.execute_input": "2022-07-20T01:12:29.478970Z",
     "iopub.status.busy": "2022-07-20T01:12:29.478298Z",
     "iopub.status.idle": "2022-07-20T01:12:29.500383Z",
     "shell.execute_reply": "2022-07-20T01:12:29.500025Z",
     "shell.execute_reply.started": "2022-07-20T01:12:29.478944Z"
    }
   },
   "outputs": [
    {
     "data": {
      "text/html": [
       "<div>\n",
       "<style scoped>\n",
       "    .dataframe tbody tr th:only-of-type {\n",
       "        vertical-align: middle;\n",
       "    }\n",
       "\n",
       "    .dataframe tbody tr th {\n",
       "        vertical-align: top;\n",
       "    }\n",
       "\n",
       "    .dataframe thead th {\n",
       "        text-align: right;\n",
       "    }\n",
       "</style>\n",
       "<table border=\"1\" class=\"dataframe\">\n",
       "  <thead>\n",
       "    <tr style=\"text-align: right;\">\n",
       "      <th></th>\n",
       "      <th>age</th>\n",
       "      <th>job</th>\n",
       "      <th>marital</th>\n",
       "      <th>education</th>\n",
       "      <th>default</th>\n",
       "      <th>balance</th>\n",
       "      <th>housing</th>\n",
       "      <th>loan</th>\n",
       "      <th>contact</th>\n",
       "      <th>day</th>\n",
       "      <th>month</th>\n",
       "      <th>duration</th>\n",
       "      <th>campaign</th>\n",
       "      <th>pdays</th>\n",
       "      <th>previous</th>\n",
       "      <th>poutcome</th>\n",
       "      <th>y</th>\n",
       "    </tr>\n",
       "  </thead>\n",
       "  <tbody>\n",
       "    <tr>\n",
       "      <th>36</th>\n",
       "      <td>78</td>\n",
       "      <td>retired</td>\n",
       "      <td>divorced</td>\n",
       "      <td>primary</td>\n",
       "      <td>no</td>\n",
       "      <td>229</td>\n",
       "      <td>no</td>\n",
       "      <td>no</td>\n",
       "      <td>telephone</td>\n",
       "      <td>22</td>\n",
       "      <td>oct</td>\n",
       "      <td>97</td>\n",
       "      <td>1</td>\n",
       "      <td>-1</td>\n",
       "      <td>0</td>\n",
       "      <td>unknown</td>\n",
       "      <td>yes</td>\n",
       "    </tr>\n",
       "    <tr>\n",
       "      <th>129</th>\n",
       "      <td>77</td>\n",
       "      <td>retired</td>\n",
       "      <td>divorced</td>\n",
       "      <td>tertiary</td>\n",
       "      <td>no</td>\n",
       "      <td>4659</td>\n",
       "      <td>no</td>\n",
       "      <td>no</td>\n",
       "      <td>cellular</td>\n",
       "      <td>14</td>\n",
       "      <td>apr</td>\n",
       "      <td>161</td>\n",
       "      <td>1</td>\n",
       "      <td>-1</td>\n",
       "      <td>0</td>\n",
       "      <td>unknown</td>\n",
       "      <td>yes</td>\n",
       "    </tr>\n",
       "    <tr>\n",
       "      <th>166</th>\n",
       "      <td>78</td>\n",
       "      <td>housemaid</td>\n",
       "      <td>married</td>\n",
       "      <td>secondary</td>\n",
       "      <td>no</td>\n",
       "      <td>499</td>\n",
       "      <td>no</td>\n",
       "      <td>no</td>\n",
       "      <td>telephone</td>\n",
       "      <td>16</td>\n",
       "      <td>mar</td>\n",
       "      <td>80</td>\n",
       "      <td>4</td>\n",
       "      <td>-1</td>\n",
       "      <td>0</td>\n",
       "      <td>unknown</td>\n",
       "      <td>no</td>\n",
       "    </tr>\n",
       "    <tr>\n",
       "      <th>199</th>\n",
       "      <td>75</td>\n",
       "      <td>retired</td>\n",
       "      <td>married</td>\n",
       "      <td>secondary</td>\n",
       "      <td>no</td>\n",
       "      <td>3771</td>\n",
       "      <td>no</td>\n",
       "      <td>no</td>\n",
       "      <td>telephone</td>\n",
       "      <td>15</td>\n",
       "      <td>apr</td>\n",
       "      <td>185</td>\n",
       "      <td>1</td>\n",
       "      <td>181</td>\n",
       "      <td>2</td>\n",
       "      <td>success</td>\n",
       "      <td>yes</td>\n",
       "    </tr>\n",
       "    <tr>\n",
       "      <th>412</th>\n",
       "      <td>75</td>\n",
       "      <td>retired</td>\n",
       "      <td>divorced</td>\n",
       "      <td>tertiary</td>\n",
       "      <td>no</td>\n",
       "      <td>3810</td>\n",
       "      <td>yes</td>\n",
       "      <td>no</td>\n",
       "      <td>cellular</td>\n",
       "      <td>16</td>\n",
       "      <td>nov</td>\n",
       "      <td>262</td>\n",
       "      <td>1</td>\n",
       "      <td>183</td>\n",
       "      <td>1</td>\n",
       "      <td>failure</td>\n",
       "      <td>yes</td>\n",
       "    </tr>\n",
       "    <tr>\n",
       "      <th>477</th>\n",
       "      <td>77</td>\n",
       "      <td>retired</td>\n",
       "      <td>married</td>\n",
       "      <td>tertiary</td>\n",
       "      <td>no</td>\n",
       "      <td>7802</td>\n",
       "      <td>no</td>\n",
       "      <td>no</td>\n",
       "      <td>telephone</td>\n",
       "      <td>4</td>\n",
       "      <td>may</td>\n",
       "      <td>421</td>\n",
       "      <td>1</td>\n",
       "      <td>92</td>\n",
       "      <td>2</td>\n",
       "      <td>success</td>\n",
       "      <td>yes</td>\n",
       "    </tr>\n",
       "    <tr>\n",
       "      <th>573</th>\n",
       "      <td>81</td>\n",
       "      <td>retired</td>\n",
       "      <td>married</td>\n",
       "      <td>secondary</td>\n",
       "      <td>no</td>\n",
       "      <td>1</td>\n",
       "      <td>no</td>\n",
       "      <td>no</td>\n",
       "      <td>cellular</td>\n",
       "      <td>19</td>\n",
       "      <td>aug</td>\n",
       "      <td>65</td>\n",
       "      <td>5</td>\n",
       "      <td>-1</td>\n",
       "      <td>0</td>\n",
       "      <td>unknown</td>\n",
       "      <td>no</td>\n",
       "    </tr>\n",
       "    <tr>\n",
       "      <th>633</th>\n",
       "      <td>83</td>\n",
       "      <td>retired</td>\n",
       "      <td>married</td>\n",
       "      <td>secondary</td>\n",
       "      <td>no</td>\n",
       "      <td>0</td>\n",
       "      <td>no</td>\n",
       "      <td>no</td>\n",
       "      <td>cellular</td>\n",
       "      <td>18</td>\n",
       "      <td>mar</td>\n",
       "      <td>140</td>\n",
       "      <td>10</td>\n",
       "      <td>-1</td>\n",
       "      <td>0</td>\n",
       "      <td>unknown</td>\n",
       "      <td>no</td>\n",
       "    </tr>\n",
       "    <tr>\n",
       "      <th>688</th>\n",
       "      <td>80</td>\n",
       "      <td>management</td>\n",
       "      <td>married</td>\n",
       "      <td>primary</td>\n",
       "      <td>no</td>\n",
       "      <td>6483</td>\n",
       "      <td>no</td>\n",
       "      <td>no</td>\n",
       "      <td>telephone</td>\n",
       "      <td>19</td>\n",
       "      <td>oct</td>\n",
       "      <td>123</td>\n",
       "      <td>1</td>\n",
       "      <td>-1</td>\n",
       "      <td>0</td>\n",
       "      <td>unknown</td>\n",
       "      <td>no</td>\n",
       "    </tr>\n",
       "    <tr>\n",
       "      <th>1126</th>\n",
       "      <td>77</td>\n",
       "      <td>retired</td>\n",
       "      <td>married</td>\n",
       "      <td>secondary</td>\n",
       "      <td>no</td>\n",
       "      <td>610</td>\n",
       "      <td>no</td>\n",
       "      <td>no</td>\n",
       "      <td>cellular</td>\n",
       "      <td>13</td>\n",
       "      <td>aug</td>\n",
       "      <td>766</td>\n",
       "      <td>3</td>\n",
       "      <td>-1</td>\n",
       "      <td>0</td>\n",
       "      <td>unknown</td>\n",
       "      <td>no</td>\n",
       "    </tr>\n",
       "    <tr>\n",
       "      <th>1186</th>\n",
       "      <td>71</td>\n",
       "      <td>technician</td>\n",
       "      <td>married</td>\n",
       "      <td>tertiary</td>\n",
       "      <td>no</td>\n",
       "      <td>383</td>\n",
       "      <td>no</td>\n",
       "      <td>no</td>\n",
       "      <td>cellular</td>\n",
       "      <td>27</td>\n",
       "      <td>oct</td>\n",
       "      <td>327</td>\n",
       "      <td>2</td>\n",
       "      <td>183</td>\n",
       "      <td>3</td>\n",
       "      <td>success</td>\n",
       "      <td>no</td>\n",
       "    </tr>\n",
       "    <tr>\n",
       "      <th>1196</th>\n",
       "      <td>72</td>\n",
       "      <td>blue-collar</td>\n",
       "      <td>married</td>\n",
       "      <td>primary</td>\n",
       "      <td>no</td>\n",
       "      <td>4415</td>\n",
       "      <td>no</td>\n",
       "      <td>no</td>\n",
       "      <td>telephone</td>\n",
       "      <td>13</td>\n",
       "      <td>oct</td>\n",
       "      <td>120</td>\n",
       "      <td>1</td>\n",
       "      <td>-1</td>\n",
       "      <td>0</td>\n",
       "      <td>unknown</td>\n",
       "      <td>no</td>\n",
       "    </tr>\n",
       "    <tr>\n",
       "      <th>1230</th>\n",
       "      <td>75</td>\n",
       "      <td>retired</td>\n",
       "      <td>divorced</td>\n",
       "      <td>secondary</td>\n",
       "      <td>no</td>\n",
       "      <td>1341</td>\n",
       "      <td>no</td>\n",
       "      <td>no</td>\n",
       "      <td>cellular</td>\n",
       "      <td>18</td>\n",
       "      <td>dec</td>\n",
       "      <td>415</td>\n",
       "      <td>7</td>\n",
       "      <td>-1</td>\n",
       "      <td>0</td>\n",
       "      <td>unknown</td>\n",
       "      <td>yes</td>\n",
       "    </tr>\n",
       "    <tr>\n",
       "      <th>1312</th>\n",
       "      <td>80</td>\n",
       "      <td>retired</td>\n",
       "      <td>married</td>\n",
       "      <td>secondary</td>\n",
       "      <td>no</td>\n",
       "      <td>8304</td>\n",
       "      <td>no</td>\n",
       "      <td>no</td>\n",
       "      <td>telephone</td>\n",
       "      <td>9</td>\n",
       "      <td>jun</td>\n",
       "      <td>712</td>\n",
       "      <td>1</td>\n",
       "      <td>64</td>\n",
       "      <td>12</td>\n",
       "      <td>failure</td>\n",
       "      <td>yes</td>\n",
       "    </tr>\n",
       "    <tr>\n",
       "      <th>1349</th>\n",
       "      <td>83</td>\n",
       "      <td>retired</td>\n",
       "      <td>married</td>\n",
       "      <td>primary</td>\n",
       "      <td>no</td>\n",
       "      <td>425</td>\n",
       "      <td>no</td>\n",
       "      <td>no</td>\n",
       "      <td>telephone</td>\n",
       "      <td>22</td>\n",
       "      <td>jun</td>\n",
       "      <td>883</td>\n",
       "      <td>1</td>\n",
       "      <td>140</td>\n",
       "      <td>1</td>\n",
       "      <td>failure</td>\n",
       "      <td>yes</td>\n",
       "    </tr>\n",
       "    <tr>\n",
       "      <th>1415</th>\n",
       "      <td>75</td>\n",
       "      <td>retired</td>\n",
       "      <td>divorced</td>\n",
       "      <td>primary</td>\n",
       "      <td>no</td>\n",
       "      <td>852</td>\n",
       "      <td>no</td>\n",
       "      <td>no</td>\n",
       "      <td>cellular</td>\n",
       "      <td>15</td>\n",
       "      <td>mar</td>\n",
       "      <td>341</td>\n",
       "      <td>1</td>\n",
       "      <td>-1</td>\n",
       "      <td>0</td>\n",
       "      <td>unknown</td>\n",
       "      <td>no</td>\n",
       "    </tr>\n",
       "    <tr>\n",
       "      <th>1422</th>\n",
       "      <td>79</td>\n",
       "      <td>retired</td>\n",
       "      <td>married</td>\n",
       "      <td>secondary</td>\n",
       "      <td>no</td>\n",
       "      <td>4738</td>\n",
       "      <td>no</td>\n",
       "      <td>no</td>\n",
       "      <td>telephone</td>\n",
       "      <td>9</td>\n",
       "      <td>jul</td>\n",
       "      <td>151</td>\n",
       "      <td>5</td>\n",
       "      <td>-1</td>\n",
       "      <td>0</td>\n",
       "      <td>unknown</td>\n",
       "      <td>no</td>\n",
       "    </tr>\n",
       "    <tr>\n",
       "      <th>1437</th>\n",
       "      <td>77</td>\n",
       "      <td>retired</td>\n",
       "      <td>married</td>\n",
       "      <td>tertiary</td>\n",
       "      <td>no</td>\n",
       "      <td>0</td>\n",
       "      <td>no</td>\n",
       "      <td>no</td>\n",
       "      <td>cellular</td>\n",
       "      <td>16</td>\n",
       "      <td>oct</td>\n",
       "      <td>847</td>\n",
       "      <td>1</td>\n",
       "      <td>60</td>\n",
       "      <td>1</td>\n",
       "      <td>success</td>\n",
       "      <td>yes</td>\n",
       "    </tr>\n",
       "    <tr>\n",
       "      <th>1442</th>\n",
       "      <td>73</td>\n",
       "      <td>retired</td>\n",
       "      <td>married</td>\n",
       "      <td>primary</td>\n",
       "      <td>no</td>\n",
       "      <td>1388</td>\n",
       "      <td>no</td>\n",
       "      <td>no</td>\n",
       "      <td>cellular</td>\n",
       "      <td>20</td>\n",
       "      <td>jul</td>\n",
       "      <td>146</td>\n",
       "      <td>3</td>\n",
       "      <td>190</td>\n",
       "      <td>3</td>\n",
       "      <td>success</td>\n",
       "      <td>no</td>\n",
       "    </tr>\n",
       "    <tr>\n",
       "      <th>1866</th>\n",
       "      <td>86</td>\n",
       "      <td>retired</td>\n",
       "      <td>married</td>\n",
       "      <td>secondary</td>\n",
       "      <td>no</td>\n",
       "      <td>1503</td>\n",
       "      <td>no</td>\n",
       "      <td>no</td>\n",
       "      <td>telephone</td>\n",
       "      <td>18</td>\n",
       "      <td>mar</td>\n",
       "      <td>165</td>\n",
       "      <td>3</td>\n",
       "      <td>101</td>\n",
       "      <td>1</td>\n",
       "      <td>other</td>\n",
       "      <td>no</td>\n",
       "    </tr>\n",
       "    <tr>\n",
       "      <th>1927</th>\n",
       "      <td>71</td>\n",
       "      <td>retired</td>\n",
       "      <td>married</td>\n",
       "      <td>primary</td>\n",
       "      <td>no</td>\n",
       "      <td>4657</td>\n",
       "      <td>no</td>\n",
       "      <td>no</td>\n",
       "      <td>cellular</td>\n",
       "      <td>16</td>\n",
       "      <td>feb</td>\n",
       "      <td>93</td>\n",
       "      <td>5</td>\n",
       "      <td>-1</td>\n",
       "      <td>0</td>\n",
       "      <td>unknown</td>\n",
       "      <td>yes</td>\n",
       "    </tr>\n",
       "    <tr>\n",
       "      <th>1949</th>\n",
       "      <td>78</td>\n",
       "      <td>retired</td>\n",
       "      <td>married</td>\n",
       "      <td>tertiary</td>\n",
       "      <td>no</td>\n",
       "      <td>226</td>\n",
       "      <td>no</td>\n",
       "      <td>no</td>\n",
       "      <td>telephone</td>\n",
       "      <td>6</td>\n",
       "      <td>nov</td>\n",
       "      <td>136</td>\n",
       "      <td>1</td>\n",
       "      <td>-1</td>\n",
       "      <td>0</td>\n",
       "      <td>unknown</td>\n",
       "      <td>no</td>\n",
       "    </tr>\n",
       "    <tr>\n",
       "      <th>1956</th>\n",
       "      <td>77</td>\n",
       "      <td>retired</td>\n",
       "      <td>married</td>\n",
       "      <td>primary</td>\n",
       "      <td>no</td>\n",
       "      <td>680</td>\n",
       "      <td>no</td>\n",
       "      <td>no</td>\n",
       "      <td>telephone</td>\n",
       "      <td>24</td>\n",
       "      <td>feb</td>\n",
       "      <td>513</td>\n",
       "      <td>2</td>\n",
       "      <td>89</td>\n",
       "      <td>7</td>\n",
       "      <td>failure</td>\n",
       "      <td>no</td>\n",
       "    </tr>\n",
       "    <tr>\n",
       "      <th>2014</th>\n",
       "      <td>74</td>\n",
       "      <td>retired</td>\n",
       "      <td>divorced</td>\n",
       "      <td>secondary</td>\n",
       "      <td>no</td>\n",
       "      <td>4079</td>\n",
       "      <td>no</td>\n",
       "      <td>no</td>\n",
       "      <td>cellular</td>\n",
       "      <td>19</td>\n",
       "      <td>oct</td>\n",
       "      <td>343</td>\n",
       "      <td>3</td>\n",
       "      <td>-1</td>\n",
       "      <td>0</td>\n",
       "      <td>unknown</td>\n",
       "      <td>yes</td>\n",
       "    </tr>\n",
       "    <tr>\n",
       "      <th>2041</th>\n",
       "      <td>73</td>\n",
       "      <td>retired</td>\n",
       "      <td>married</td>\n",
       "      <td>primary</td>\n",
       "      <td>no</td>\n",
       "      <td>154</td>\n",
       "      <td>no</td>\n",
       "      <td>no</td>\n",
       "      <td>cellular</td>\n",
       "      <td>15</td>\n",
       "      <td>oct</td>\n",
       "      <td>103</td>\n",
       "      <td>1</td>\n",
       "      <td>-1</td>\n",
       "      <td>0</td>\n",
       "      <td>unknown</td>\n",
       "      <td>no</td>\n",
       "    </tr>\n",
       "    <tr>\n",
       "      <th>2070</th>\n",
       "      <td>80</td>\n",
       "      <td>retired</td>\n",
       "      <td>married</td>\n",
       "      <td>secondary</td>\n",
       "      <td>no</td>\n",
       "      <td>8304</td>\n",
       "      <td>no</td>\n",
       "      <td>no</td>\n",
       "      <td>telephone</td>\n",
       "      <td>6</td>\n",
       "      <td>apr</td>\n",
       "      <td>681</td>\n",
       "      <td>1</td>\n",
       "      <td>118</td>\n",
       "      <td>11</td>\n",
       "      <td>success</td>\n",
       "      <td>no</td>\n",
       "    </tr>\n",
       "    <tr>\n",
       "      <th>2433</th>\n",
       "      <td>73</td>\n",
       "      <td>retired</td>\n",
       "      <td>married</td>\n",
       "      <td>primary</td>\n",
       "      <td>no</td>\n",
       "      <td>796</td>\n",
       "      <td>no</td>\n",
       "      <td>no</td>\n",
       "      <td>cellular</td>\n",
       "      <td>23</td>\n",
       "      <td>oct</td>\n",
       "      <td>427</td>\n",
       "      <td>1</td>\n",
       "      <td>182</td>\n",
       "      <td>2</td>\n",
       "      <td>failure</td>\n",
       "      <td>yes</td>\n",
       "    </tr>\n",
       "    <tr>\n",
       "      <th>2558</th>\n",
       "      <td>72</td>\n",
       "      <td>retired</td>\n",
       "      <td>married</td>\n",
       "      <td>primary</td>\n",
       "      <td>no</td>\n",
       "      <td>796</td>\n",
       "      <td>no</td>\n",
       "      <td>no</td>\n",
       "      <td>cellular</td>\n",
       "      <td>24</td>\n",
       "      <td>apr</td>\n",
       "      <td>173</td>\n",
       "      <td>2</td>\n",
       "      <td>-1</td>\n",
       "      <td>0</td>\n",
       "      <td>unknown</td>\n",
       "      <td>no</td>\n",
       "    </tr>\n",
       "    <tr>\n",
       "      <th>2641</th>\n",
       "      <td>73</td>\n",
       "      <td>retired</td>\n",
       "      <td>married</td>\n",
       "      <td>secondary</td>\n",
       "      <td>no</td>\n",
       "      <td>19</td>\n",
       "      <td>no</td>\n",
       "      <td>no</td>\n",
       "      <td>cellular</td>\n",
       "      <td>5</td>\n",
       "      <td>nov</td>\n",
       "      <td>509</td>\n",
       "      <td>2</td>\n",
       "      <td>-1</td>\n",
       "      <td>0</td>\n",
       "      <td>unknown</td>\n",
       "      <td>no</td>\n",
       "    </tr>\n",
       "    <tr>\n",
       "      <th>2678</th>\n",
       "      <td>74</td>\n",
       "      <td>retired</td>\n",
       "      <td>married</td>\n",
       "      <td>secondary</td>\n",
       "      <td>no</td>\n",
       "      <td>935</td>\n",
       "      <td>no</td>\n",
       "      <td>no</td>\n",
       "      <td>cellular</td>\n",
       "      <td>26</td>\n",
       "      <td>jan</td>\n",
       "      <td>100</td>\n",
       "      <td>1</td>\n",
       "      <td>104</td>\n",
       "      <td>1</td>\n",
       "      <td>other</td>\n",
       "      <td>no</td>\n",
       "    </tr>\n",
       "    <tr>\n",
       "      <th>2848</th>\n",
       "      <td>80</td>\n",
       "      <td>retired</td>\n",
       "      <td>married</td>\n",
       "      <td>secondary</td>\n",
       "      <td>no</td>\n",
       "      <td>462</td>\n",
       "      <td>no</td>\n",
       "      <td>no</td>\n",
       "      <td>cellular</td>\n",
       "      <td>7</td>\n",
       "      <td>dec</td>\n",
       "      <td>127</td>\n",
       "      <td>2</td>\n",
       "      <td>-1</td>\n",
       "      <td>0</td>\n",
       "      <td>unknown</td>\n",
       "      <td>no</td>\n",
       "    </tr>\n",
       "    <tr>\n",
       "      <th>2896</th>\n",
       "      <td>80</td>\n",
       "      <td>retired</td>\n",
       "      <td>married</td>\n",
       "      <td>primary</td>\n",
       "      <td>no</td>\n",
       "      <td>1548</td>\n",
       "      <td>no</td>\n",
       "      <td>no</td>\n",
       "      <td>cellular</td>\n",
       "      <td>6</td>\n",
       "      <td>aug</td>\n",
       "      <td>331</td>\n",
       "      <td>2</td>\n",
       "      <td>-1</td>\n",
       "      <td>0</td>\n",
       "      <td>unknown</td>\n",
       "      <td>no</td>\n",
       "    </tr>\n",
       "    <tr>\n",
       "      <th>2962</th>\n",
       "      <td>71</td>\n",
       "      <td>retired</td>\n",
       "      <td>married</td>\n",
       "      <td>tertiary</td>\n",
       "      <td>no</td>\n",
       "      <td>14220</td>\n",
       "      <td>yes</td>\n",
       "      <td>no</td>\n",
       "      <td>cellular</td>\n",
       "      <td>9</td>\n",
       "      <td>sep</td>\n",
       "      <td>397</td>\n",
       "      <td>1</td>\n",
       "      <td>-1</td>\n",
       "      <td>0</td>\n",
       "      <td>unknown</td>\n",
       "      <td>yes</td>\n",
       "    </tr>\n",
       "    <tr>\n",
       "      <th>3036</th>\n",
       "      <td>73</td>\n",
       "      <td>retired</td>\n",
       "      <td>married</td>\n",
       "      <td>primary</td>\n",
       "      <td>no</td>\n",
       "      <td>279</td>\n",
       "      <td>no</td>\n",
       "      <td>no</td>\n",
       "      <td>cellular</td>\n",
       "      <td>28</td>\n",
       "      <td>jan</td>\n",
       "      <td>399</td>\n",
       "      <td>3</td>\n",
       "      <td>-1</td>\n",
       "      <td>0</td>\n",
       "      <td>unknown</td>\n",
       "      <td>yes</td>\n",
       "    </tr>\n",
       "    <tr>\n",
       "      <th>3157</th>\n",
       "      <td>75</td>\n",
       "      <td>blue-collar</td>\n",
       "      <td>married</td>\n",
       "      <td>secondary</td>\n",
       "      <td>no</td>\n",
       "      <td>6053</td>\n",
       "      <td>no</td>\n",
       "      <td>no</td>\n",
       "      <td>cellular</td>\n",
       "      <td>11</td>\n",
       "      <td>feb</td>\n",
       "      <td>865</td>\n",
       "      <td>2</td>\n",
       "      <td>190</td>\n",
       "      <td>1</td>\n",
       "      <td>failure</td>\n",
       "      <td>no</td>\n",
       "    </tr>\n",
       "    <tr>\n",
       "      <th>3193</th>\n",
       "      <td>76</td>\n",
       "      <td>retired</td>\n",
       "      <td>divorced</td>\n",
       "      <td>primary</td>\n",
       "      <td>no</td>\n",
       "      <td>86</td>\n",
       "      <td>no</td>\n",
       "      <td>no</td>\n",
       "      <td>cellular</td>\n",
       "      <td>12</td>\n",
       "      <td>aug</td>\n",
       "      <td>192</td>\n",
       "      <td>1</td>\n",
       "      <td>-1</td>\n",
       "      <td>0</td>\n",
       "      <td>unknown</td>\n",
       "      <td>no</td>\n",
       "    </tr>\n",
       "    <tr>\n",
       "      <th>3202</th>\n",
       "      <td>79</td>\n",
       "      <td>retired</td>\n",
       "      <td>married</td>\n",
       "      <td>primary</td>\n",
       "      <td>no</td>\n",
       "      <td>8556</td>\n",
       "      <td>no</td>\n",
       "      <td>no</td>\n",
       "      <td>telephone</td>\n",
       "      <td>18</td>\n",
       "      <td>jan</td>\n",
       "      <td>326</td>\n",
       "      <td>2</td>\n",
       "      <td>272</td>\n",
       "      <td>2</td>\n",
       "      <td>success</td>\n",
       "      <td>yes</td>\n",
       "    </tr>\n",
       "    <tr>\n",
       "      <th>3205</th>\n",
       "      <td>77</td>\n",
       "      <td>retired</td>\n",
       "      <td>married</td>\n",
       "      <td>primary</td>\n",
       "      <td>no</td>\n",
       "      <td>680</td>\n",
       "      <td>no</td>\n",
       "      <td>no</td>\n",
       "      <td>telephone</td>\n",
       "      <td>27</td>\n",
       "      <td>nov</td>\n",
       "      <td>341</td>\n",
       "      <td>4</td>\n",
       "      <td>94</td>\n",
       "      <td>3</td>\n",
       "      <td>failure</td>\n",
       "      <td>no</td>\n",
       "    </tr>\n",
       "    <tr>\n",
       "      <th>3219</th>\n",
       "      <td>72</td>\n",
       "      <td>retired</td>\n",
       "      <td>married</td>\n",
       "      <td>primary</td>\n",
       "      <td>no</td>\n",
       "      <td>763</td>\n",
       "      <td>no</td>\n",
       "      <td>no</td>\n",
       "      <td>cellular</td>\n",
       "      <td>24</td>\n",
       "      <td>apr</td>\n",
       "      <td>384</td>\n",
       "      <td>2</td>\n",
       "      <td>-1</td>\n",
       "      <td>0</td>\n",
       "      <td>unknown</td>\n",
       "      <td>yes</td>\n",
       "    </tr>\n",
       "    <tr>\n",
       "      <th>3311</th>\n",
       "      <td>87</td>\n",
       "      <td>retired</td>\n",
       "      <td>married</td>\n",
       "      <td>primary</td>\n",
       "      <td>no</td>\n",
       "      <td>230</td>\n",
       "      <td>no</td>\n",
       "      <td>no</td>\n",
       "      <td>cellular</td>\n",
       "      <td>30</td>\n",
       "      <td>oct</td>\n",
       "      <td>144</td>\n",
       "      <td>1</td>\n",
       "      <td>-1</td>\n",
       "      <td>0</td>\n",
       "      <td>unknown</td>\n",
       "      <td>yes</td>\n",
       "    </tr>\n",
       "    <tr>\n",
       "      <th>3360</th>\n",
       "      <td>79</td>\n",
       "      <td>retired</td>\n",
       "      <td>married</td>\n",
       "      <td>primary</td>\n",
       "      <td>no</td>\n",
       "      <td>429</td>\n",
       "      <td>no</td>\n",
       "      <td>no</td>\n",
       "      <td>telephone</td>\n",
       "      <td>8</td>\n",
       "      <td>jul</td>\n",
       "      <td>1006</td>\n",
       "      <td>2</td>\n",
       "      <td>-1</td>\n",
       "      <td>0</td>\n",
       "      <td>unknown</td>\n",
       "      <td>yes</td>\n",
       "    </tr>\n",
       "    <tr>\n",
       "      <th>3458</th>\n",
       "      <td>71</td>\n",
       "      <td>retired</td>\n",
       "      <td>married</td>\n",
       "      <td>secondary</td>\n",
       "      <td>no</td>\n",
       "      <td>2850</td>\n",
       "      <td>no</td>\n",
       "      <td>no</td>\n",
       "      <td>cellular</td>\n",
       "      <td>17</td>\n",
       "      <td>feb</td>\n",
       "      <td>185</td>\n",
       "      <td>1</td>\n",
       "      <td>-1</td>\n",
       "      <td>0</td>\n",
       "      <td>unknown</td>\n",
       "      <td>yes</td>\n",
       "    </tr>\n",
       "    <tr>\n",
       "      <th>3495</th>\n",
       "      <td>76</td>\n",
       "      <td>retired</td>\n",
       "      <td>married</td>\n",
       "      <td>primary</td>\n",
       "      <td>no</td>\n",
       "      <td>2590</td>\n",
       "      <td>no</td>\n",
       "      <td>no</td>\n",
       "      <td>telephone</td>\n",
       "      <td>9</td>\n",
       "      <td>feb</td>\n",
       "      <td>68</td>\n",
       "      <td>12</td>\n",
       "      <td>-1</td>\n",
       "      <td>0</td>\n",
       "      <td>unknown</td>\n",
       "      <td>no</td>\n",
       "    </tr>\n",
       "    <tr>\n",
       "      <th>3614</th>\n",
       "      <td>71</td>\n",
       "      <td>retired</td>\n",
       "      <td>divorced</td>\n",
       "      <td>tertiary</td>\n",
       "      <td>no</td>\n",
       "      <td>261</td>\n",
       "      <td>no</td>\n",
       "      <td>no</td>\n",
       "      <td>cellular</td>\n",
       "      <td>12</td>\n",
       "      <td>aug</td>\n",
       "      <td>1117</td>\n",
       "      <td>2</td>\n",
       "      <td>-1</td>\n",
       "      <td>0</td>\n",
       "      <td>unknown</td>\n",
       "      <td>no</td>\n",
       "    </tr>\n",
       "    <tr>\n",
       "      <th>3690</th>\n",
       "      <td>80</td>\n",
       "      <td>housemaid</td>\n",
       "      <td>married</td>\n",
       "      <td>primary</td>\n",
       "      <td>no</td>\n",
       "      <td>0</td>\n",
       "      <td>no</td>\n",
       "      <td>no</td>\n",
       "      <td>cellular</td>\n",
       "      <td>23</td>\n",
       "      <td>feb</td>\n",
       "      <td>639</td>\n",
       "      <td>1</td>\n",
       "      <td>189</td>\n",
       "      <td>1</td>\n",
       "      <td>failure</td>\n",
       "      <td>yes</td>\n",
       "    </tr>\n",
       "    <tr>\n",
       "      <th>3737</th>\n",
       "      <td>72</td>\n",
       "      <td>retired</td>\n",
       "      <td>married</td>\n",
       "      <td>secondary</td>\n",
       "      <td>no</td>\n",
       "      <td>4130</td>\n",
       "      <td>no</td>\n",
       "      <td>no</td>\n",
       "      <td>cellular</td>\n",
       "      <td>12</td>\n",
       "      <td>nov</td>\n",
       "      <td>427</td>\n",
       "      <td>1</td>\n",
       "      <td>-1</td>\n",
       "      <td>0</td>\n",
       "      <td>unknown</td>\n",
       "      <td>no</td>\n",
       "    </tr>\n",
       "    <tr>\n",
       "      <th>3750</th>\n",
       "      <td>79</td>\n",
       "      <td>retired</td>\n",
       "      <td>divorced</td>\n",
       "      <td>unknown</td>\n",
       "      <td>no</td>\n",
       "      <td>2628</td>\n",
       "      <td>no</td>\n",
       "      <td>no</td>\n",
       "      <td>telephone</td>\n",
       "      <td>8</td>\n",
       "      <td>jul</td>\n",
       "      <td>220</td>\n",
       "      <td>7</td>\n",
       "      <td>450</td>\n",
       "      <td>2</td>\n",
       "      <td>failure</td>\n",
       "      <td>no</td>\n",
       "    </tr>\n",
       "    <tr>\n",
       "      <th>3786</th>\n",
       "      <td>74</td>\n",
       "      <td>retired</td>\n",
       "      <td>married</td>\n",
       "      <td>secondary</td>\n",
       "      <td>no</td>\n",
       "      <td>921</td>\n",
       "      <td>no</td>\n",
       "      <td>no</td>\n",
       "      <td>telephone</td>\n",
       "      <td>17</td>\n",
       "      <td>apr</td>\n",
       "      <td>394</td>\n",
       "      <td>2</td>\n",
       "      <td>-1</td>\n",
       "      <td>0</td>\n",
       "      <td>unknown</td>\n",
       "      <td>yes</td>\n",
       "    </tr>\n",
       "    <tr>\n",
       "      <th>4038</th>\n",
       "      <td>71</td>\n",
       "      <td>unknown</td>\n",
       "      <td>married</td>\n",
       "      <td>tertiary</td>\n",
       "      <td>no</td>\n",
       "      <td>353</td>\n",
       "      <td>no</td>\n",
       "      <td>no</td>\n",
       "      <td>cellular</td>\n",
       "      <td>27</td>\n",
       "      <td>jan</td>\n",
       "      <td>208</td>\n",
       "      <td>1</td>\n",
       "      <td>93</td>\n",
       "      <td>2</td>\n",
       "      <td>failure</td>\n",
       "      <td>no</td>\n",
       "    </tr>\n",
       "    <tr>\n",
       "      <th>4047</th>\n",
       "      <td>75</td>\n",
       "      <td>retired</td>\n",
       "      <td>married</td>\n",
       "      <td>secondary</td>\n",
       "      <td>no</td>\n",
       "      <td>26452</td>\n",
       "      <td>no</td>\n",
       "      <td>no</td>\n",
       "      <td>telephone</td>\n",
       "      <td>15</td>\n",
       "      <td>jul</td>\n",
       "      <td>219</td>\n",
       "      <td>2</td>\n",
       "      <td>-1</td>\n",
       "      <td>0</td>\n",
       "      <td>unknown</td>\n",
       "      <td>no</td>\n",
       "    </tr>\n",
       "    <tr>\n",
       "      <th>4108</th>\n",
       "      <td>84</td>\n",
       "      <td>retired</td>\n",
       "      <td>divorced</td>\n",
       "      <td>primary</td>\n",
       "      <td>no</td>\n",
       "      <td>639</td>\n",
       "      <td>no</td>\n",
       "      <td>no</td>\n",
       "      <td>telephone</td>\n",
       "      <td>18</td>\n",
       "      <td>may</td>\n",
       "      <td>353</td>\n",
       "      <td>3</td>\n",
       "      <td>-1</td>\n",
       "      <td>0</td>\n",
       "      <td>unknown</td>\n",
       "      <td>yes</td>\n",
       "    </tr>\n",
       "    <tr>\n",
       "      <th>4323</th>\n",
       "      <td>83</td>\n",
       "      <td>retired</td>\n",
       "      <td>divorced</td>\n",
       "      <td>primary</td>\n",
       "      <td>no</td>\n",
       "      <td>0</td>\n",
       "      <td>no</td>\n",
       "      <td>no</td>\n",
       "      <td>telephone</td>\n",
       "      <td>31</td>\n",
       "      <td>may</td>\n",
       "      <td>664</td>\n",
       "      <td>1</td>\n",
       "      <td>77</td>\n",
       "      <td>3</td>\n",
       "      <td>success</td>\n",
       "      <td>no</td>\n",
       "    </tr>\n",
       "    <tr>\n",
       "      <th>4337</th>\n",
       "      <td>73</td>\n",
       "      <td>retired</td>\n",
       "      <td>married</td>\n",
       "      <td>unknown</td>\n",
       "      <td>no</td>\n",
       "      <td>519</td>\n",
       "      <td>no</td>\n",
       "      <td>no</td>\n",
       "      <td>telephone</td>\n",
       "      <td>16</td>\n",
       "      <td>oct</td>\n",
       "      <td>434</td>\n",
       "      <td>1</td>\n",
       "      <td>57</td>\n",
       "      <td>1</td>\n",
       "      <td>failure</td>\n",
       "      <td>yes</td>\n",
       "    </tr>\n",
       "    <tr>\n",
       "      <th>4388</th>\n",
       "      <td>83</td>\n",
       "      <td>retired</td>\n",
       "      <td>divorced</td>\n",
       "      <td>primary</td>\n",
       "      <td>no</td>\n",
       "      <td>1097</td>\n",
       "      <td>no</td>\n",
       "      <td>no</td>\n",
       "      <td>telephone</td>\n",
       "      <td>5</td>\n",
       "      <td>mar</td>\n",
       "      <td>181</td>\n",
       "      <td>1</td>\n",
       "      <td>-1</td>\n",
       "      <td>0</td>\n",
       "      <td>unknown</td>\n",
       "      <td>yes</td>\n",
       "    </tr>\n",
       "  </tbody>\n",
       "</table>\n",
       "</div>"
      ],
      "text/plain": [
       "      age          job   marital  education default  balance housing loan  \\\n",
       "36     78      retired  divorced    primary      no      229      no   no   \n",
       "129    77      retired  divorced   tertiary      no     4659      no   no   \n",
       "166    78    housemaid   married  secondary      no      499      no   no   \n",
       "199    75      retired   married  secondary      no     3771      no   no   \n",
       "412    75      retired  divorced   tertiary      no     3810     yes   no   \n",
       "477    77      retired   married   tertiary      no     7802      no   no   \n",
       "573    81      retired   married  secondary      no        1      no   no   \n",
       "633    83      retired   married  secondary      no        0      no   no   \n",
       "688    80   management   married    primary      no     6483      no   no   \n",
       "1126   77      retired   married  secondary      no      610      no   no   \n",
       "1186   71   technician   married   tertiary      no      383      no   no   \n",
       "1196   72  blue-collar   married    primary      no     4415      no   no   \n",
       "1230   75      retired  divorced  secondary      no     1341      no   no   \n",
       "1312   80      retired   married  secondary      no     8304      no   no   \n",
       "1349   83      retired   married    primary      no      425      no   no   \n",
       "1415   75      retired  divorced    primary      no      852      no   no   \n",
       "1422   79      retired   married  secondary      no     4738      no   no   \n",
       "1437   77      retired   married   tertiary      no        0      no   no   \n",
       "1442   73      retired   married    primary      no     1388      no   no   \n",
       "1866   86      retired   married  secondary      no     1503      no   no   \n",
       "1927   71      retired   married    primary      no     4657      no   no   \n",
       "1949   78      retired   married   tertiary      no      226      no   no   \n",
       "1956   77      retired   married    primary      no      680      no   no   \n",
       "2014   74      retired  divorced  secondary      no     4079      no   no   \n",
       "2041   73      retired   married    primary      no      154      no   no   \n",
       "2070   80      retired   married  secondary      no     8304      no   no   \n",
       "2433   73      retired   married    primary      no      796      no   no   \n",
       "2558   72      retired   married    primary      no      796      no   no   \n",
       "2641   73      retired   married  secondary      no       19      no   no   \n",
       "2678   74      retired   married  secondary      no      935      no   no   \n",
       "2848   80      retired   married  secondary      no      462      no   no   \n",
       "2896   80      retired   married    primary      no     1548      no   no   \n",
       "2962   71      retired   married   tertiary      no    14220     yes   no   \n",
       "3036   73      retired   married    primary      no      279      no   no   \n",
       "3157   75  blue-collar   married  secondary      no     6053      no   no   \n",
       "3193   76      retired  divorced    primary      no       86      no   no   \n",
       "3202   79      retired   married    primary      no     8556      no   no   \n",
       "3205   77      retired   married    primary      no      680      no   no   \n",
       "3219   72      retired   married    primary      no      763      no   no   \n",
       "3311   87      retired   married    primary      no      230      no   no   \n",
       "3360   79      retired   married    primary      no      429      no   no   \n",
       "3458   71      retired   married  secondary      no     2850      no   no   \n",
       "3495   76      retired   married    primary      no     2590      no   no   \n",
       "3614   71      retired  divorced   tertiary      no      261      no   no   \n",
       "3690   80    housemaid   married    primary      no        0      no   no   \n",
       "3737   72      retired   married  secondary      no     4130      no   no   \n",
       "3750   79      retired  divorced    unknown      no     2628      no   no   \n",
       "3786   74      retired   married  secondary      no      921      no   no   \n",
       "4038   71      unknown   married   tertiary      no      353      no   no   \n",
       "4047   75      retired   married  secondary      no    26452      no   no   \n",
       "4108   84      retired  divorced    primary      no      639      no   no   \n",
       "4323   83      retired  divorced    primary      no        0      no   no   \n",
       "4337   73      retired   married    unknown      no      519      no   no   \n",
       "4388   83      retired  divorced    primary      no     1097      no   no   \n",
       "\n",
       "        contact  day month  duration  campaign  pdays  previous poutcome    y  \n",
       "36    telephone   22   oct        97         1     -1         0  unknown  yes  \n",
       "129    cellular   14   apr       161         1     -1         0  unknown  yes  \n",
       "166   telephone   16   mar        80         4     -1         0  unknown   no  \n",
       "199   telephone   15   apr       185         1    181         2  success  yes  \n",
       "412    cellular   16   nov       262         1    183         1  failure  yes  \n",
       "477   telephone    4   may       421         1     92         2  success  yes  \n",
       "573    cellular   19   aug        65         5     -1         0  unknown   no  \n",
       "633    cellular   18   mar       140        10     -1         0  unknown   no  \n",
       "688   telephone   19   oct       123         1     -1         0  unknown   no  \n",
       "1126   cellular   13   aug       766         3     -1         0  unknown   no  \n",
       "1186   cellular   27   oct       327         2    183         3  success   no  \n",
       "1196  telephone   13   oct       120         1     -1         0  unknown   no  \n",
       "1230   cellular   18   dec       415         7     -1         0  unknown  yes  \n",
       "1312  telephone    9   jun       712         1     64        12  failure  yes  \n",
       "1349  telephone   22   jun       883         1    140         1  failure  yes  \n",
       "1415   cellular   15   mar       341         1     -1         0  unknown   no  \n",
       "1422  telephone    9   jul       151         5     -1         0  unknown   no  \n",
       "1437   cellular   16   oct       847         1     60         1  success  yes  \n",
       "1442   cellular   20   jul       146         3    190         3  success   no  \n",
       "1866  telephone   18   mar       165         3    101         1    other   no  \n",
       "1927   cellular   16   feb        93         5     -1         0  unknown  yes  \n",
       "1949  telephone    6   nov       136         1     -1         0  unknown   no  \n",
       "1956  telephone   24   feb       513         2     89         7  failure   no  \n",
       "2014   cellular   19   oct       343         3     -1         0  unknown  yes  \n",
       "2041   cellular   15   oct       103         1     -1         0  unknown   no  \n",
       "2070  telephone    6   apr       681         1    118        11  success   no  \n",
       "2433   cellular   23   oct       427         1    182         2  failure  yes  \n",
       "2558   cellular   24   apr       173         2     -1         0  unknown   no  \n",
       "2641   cellular    5   nov       509         2     -1         0  unknown   no  \n",
       "2678   cellular   26   jan       100         1    104         1    other   no  \n",
       "2848   cellular    7   dec       127         2     -1         0  unknown   no  \n",
       "2896   cellular    6   aug       331         2     -1         0  unknown   no  \n",
       "2962   cellular    9   sep       397         1     -1         0  unknown  yes  \n",
       "3036   cellular   28   jan       399         3     -1         0  unknown  yes  \n",
       "3157   cellular   11   feb       865         2    190         1  failure   no  \n",
       "3193   cellular   12   aug       192         1     -1         0  unknown   no  \n",
       "3202  telephone   18   jan       326         2    272         2  success  yes  \n",
       "3205  telephone   27   nov       341         4     94         3  failure   no  \n",
       "3219   cellular   24   apr       384         2     -1         0  unknown  yes  \n",
       "3311   cellular   30   oct       144         1     -1         0  unknown  yes  \n",
       "3360  telephone    8   jul      1006         2     -1         0  unknown  yes  \n",
       "3458   cellular   17   feb       185         1     -1         0  unknown  yes  \n",
       "3495  telephone    9   feb        68        12     -1         0  unknown   no  \n",
       "3614   cellular   12   aug      1117         2     -1         0  unknown   no  \n",
       "3690   cellular   23   feb       639         1    189         1  failure  yes  \n",
       "3737   cellular   12   nov       427         1     -1         0  unknown   no  \n",
       "3750  telephone    8   jul       220         7    450         2  failure   no  \n",
       "3786  telephone   17   apr       394         2     -1         0  unknown  yes  \n",
       "4038   cellular   27   jan       208         1     93         2  failure   no  \n",
       "4047  telephone   15   jul       219         2     -1         0  unknown   no  \n",
       "4108  telephone   18   may       353         3     -1         0  unknown  yes  \n",
       "4323  telephone   31   may       664         1     77         3  success   no  \n",
       "4337  telephone   16   oct       434         1     57         1  failure  yes  \n",
       "4388  telephone    5   mar       181         1     -1         0  unknown  yes  "
      ]
     },
     "execution_count": 83,
     "metadata": {},
     "output_type": "execute_result"
    }
   ],
   "source": [
    "df.loc[df.age>70]"
   ]
  },
  {
   "cell_type": "code",
   "execution_count": 61,
   "id": "2cc60682-edc4-43a7-a8eb-f08e1584c849",
   "metadata": {
    "execution": {
     "iopub.execute_input": "2022-07-20T01:01:10.195119Z",
     "iopub.status.busy": "2022-07-20T01:01:10.194268Z",
     "iopub.status.idle": "2022-07-20T01:01:10.204721Z",
     "shell.execute_reply": "2022-07-20T01:01:10.204315Z",
     "shell.execute_reply.started": "2022-07-20T01:01:10.195067Z"
    }
   },
   "outputs": [
    {
     "data": {
      "text/plain": [
       "count    4521.000000\n",
       "mean       41.170095\n",
       "std        10.576211\n",
       "min        19.000000\n",
       "25%        33.000000\n",
       "50%        39.000000\n",
       "75%        49.000000\n",
       "max        87.000000\n",
       "Name: age, dtype: float64"
      ]
     },
     "execution_count": 61,
     "metadata": {},
     "output_type": "execute_result"
    }
   ],
   "source": [
    "df['age'].describe()"
   ]
  },
  {
   "cell_type": "code",
   "execution_count": 60,
   "id": "ff1dc445-60ea-45e6-92ef-0631e2cb7ffa",
   "metadata": {
    "execution": {
     "iopub.execute_input": "2022-07-20T01:00:25.260166Z",
     "iopub.status.busy": "2022-07-20T01:00:25.259426Z",
     "iopub.status.idle": "2022-07-20T01:00:26.099609Z",
     "shell.execute_reply": "2022-07-20T01:00:26.099041Z",
     "shell.execute_reply.started": "2022-07-20T01:00:25.260130Z"
    }
   },
   "outputs": [
    {
     "data": {
      "text/plain": [
       "<AxesSubplot:>"
      ]
     },
     "execution_count": 60,
     "metadata": {},
     "output_type": "execute_result"
    },
    {
     "data": {
      "image/png": "[encoded data removed]",
      "text/plain": [
       "<Figure size 432x288 with 1 Axes>"
      ]
     },
     "metadata": {
      "needs_background": "light"
     },
     "output_type": "display_data"
    }
   ],
   "source": [
    "df['age'].hist()"
   ]
  },
  {
   "cell_type": "code",
   "execution_count": 62,
   "id": "c6b46558-b8ae-47be-a357-b56a58fc8744",
   "metadata": {
    "execution": {
     "iopub.execute_input": "2022-07-20T01:02:12.829669Z",
     "iopub.status.busy": "2022-07-20T01:02:12.829043Z",
     "iopub.status.idle": "2022-07-20T01:02:12.834553Z",
     "shell.execute_reply": "2022-07-20T01:02:12.834187Z",
     "shell.execute_reply.started": "2022-07-20T01:02:12.829633Z"
    }
   },
   "outputs": [
    {
     "data": {
      "text/plain": [
       "array(['unemployed', 'services', 'management', 'blue-collar',\n",
       "       'self-employed', 'technician', 'entrepreneur', 'admin.', 'student',\n",
       "       'housemaid', 'retired', 'unknown'], dtype=object)"
      ]
     },
     "execution_count": 62,
     "metadata": {},
     "output_type": "execute_result"
    }
   ],
   "source": [
    "df.job.unique()"
   ]
  },
  {
   "cell_type": "code",
   "execution_count": 68,
   "id": "f2e70a55-4bce-4cf0-ba9f-d3a93e965a04",
   "metadata": {
    "execution": {
     "iopub.execute_input": "2022-07-20T01:03:49.402837Z",
     "iopub.status.busy": "2022-07-20T01:03:49.402080Z",
     "iopub.status.idle": "2022-07-20T01:03:49.413025Z",
     "shell.execute_reply": "2022-07-20T01:03:49.412622Z",
     "shell.execute_reply.started": "2022-07-20T01:03:49.402805Z"
    }
   },
   "outputs": [
    {
     "data": {
      "text/plain": [
       "management       969\n",
       "blue-collar      946\n",
       "technician       768\n",
       "admin.           478\n",
       "services         417\n",
       "retired          230\n",
       "self-employed    183\n",
       "entrepreneur     168\n",
       "unemployed       128\n",
       "housemaid        112\n",
       "student           84\n",
       "unknown           38\n",
       "Name: job, dtype: int64"
      ]
     },
     "execution_count": 68,
     "metadata": {},
     "output_type": "execute_result"
    }
   ],
   "source": [
    "df.job.value_counts()"
   ]
  },
  {
   "attachments": {},
   "cell_type": "markdown",
   "id": "a941f433-4231-4346-bc2b-c83218b2acaa",
   "metadata": {},
   "source": [
    "we first select the rows where 'divorced' is true and draw the histogram of age distribution"
   ]
  },
  {
   "cell_type": "code",
   "execution_count": 89,
   "id": "939d932a-bc43-4ae7-90fa-0a9b68c52551",
   "metadata": {
    "execution": {
     "iopub.execute_input": "2022-07-20T01:15:19.307224Z",
     "iopub.status.busy": "2022-07-20T01:15:19.306391Z",
     "iopub.status.idle": "2022-07-20T01:15:19.532222Z",
     "shell.execute_reply": "2022-07-20T01:15:19.531676Z",
     "shell.execute_reply.started": "2022-07-20T01:15:19.307194Z"
    }
   },
   "outputs": [
    {
     "data": {
      "text/plain": [
       "<AxesSubplot:>"
      ]
     },
     "execution_count": 89,
     "metadata": {},
     "output_type": "execute_result"
    },
    {
     "data": {
      "image/png": "[encoded data removed]",
      "text/plain": [
       "<Figure size 432x288 with 1 Axes>"
      ]
     },
     "metadata": {
      "needs_background": "light"
     },
     "output_type": "display_data"
    }
   ],
   "source": [
    "# here, we want to see the histogram of age for divorced people\n",
    "df.loc[df.marital == 'divorced'].age.hist()"
   ]
  },
  {
   "cell_type": "code",
   "execution_count": 74,
   "id": "a184088a",
   "metadata": {},
   "outputs": [
    {
     "data": {
      "text/html": [
       "<div>\n",
       "<style scoped>\n",
       "    .dataframe tbody tr th:only-of-type {\n",
       "        vertical-align: middle;\n",
       "    }\n",
       "\n",
       "    .dataframe tbody tr th {\n",
       "        vertical-align: top;\n",
       "    }\n",
       "\n",
       "    .dataframe thead th {\n",
       "        text-align: right;\n",
       "    }\n",
       "</style>\n",
       "<table border=\"1\" class=\"dataframe\">\n",
       "  <thead>\n",
       "    <tr style=\"text-align: right;\">\n",
       "      <th></th>\n",
       "      <th>age</th>\n",
       "      <th>job</th>\n",
       "      <th>marital</th>\n",
       "      <th>education</th>\n",
       "      <th>default</th>\n",
       "      <th>balance</th>\n",
       "      <th>housing</th>\n",
       "      <th>loan</th>\n",
       "      <th>contact</th>\n",
       "      <th>day</th>\n",
       "      <th>month</th>\n",
       "      <th>duration</th>\n",
       "      <th>campaign</th>\n",
       "      <th>pdays</th>\n",
       "      <th>previous</th>\n",
       "      <th>poutcome</th>\n",
       "      <th>y</th>\n",
       "    </tr>\n",
       "  </thead>\n",
       "  <tbody>\n",
       "    <tr>\n",
       "      <th>0</th>\n",
       "      <td>30</td>\n",
       "      <td>unemployed</td>\n",
       "      <td>married</td>\n",
       "      <td>primary</td>\n",
       "      <td>no</td>\n",
       "      <td>1787</td>\n",
       "      <td>no</td>\n",
       "      <td>no</td>\n",
       "      <td>cellular</td>\n",
       "      <td>19</td>\n",
       "      <td>oct</td>\n",
       "      <td>79</td>\n",
       "      <td>1</td>\n",
       "      <td>-1</td>\n",
       "      <td>0</td>\n",
       "      <td>unknown</td>\n",
       "      <td>no</td>\n",
       "    </tr>\n",
       "    <tr>\n",
       "      <th>1</th>\n",
       "      <td>33</td>\n",
       "      <td>services</td>\n",
       "      <td>married</td>\n",
       "      <td>secondary</td>\n",
       "      <td>no</td>\n",
       "      <td>4789</td>\n",
       "      <td>yes</td>\n",
       "      <td>yes</td>\n",
       "      <td>cellular</td>\n",
       "      <td>11</td>\n",
       "      <td>may</td>\n",
       "      <td>220</td>\n",
       "      <td>1</td>\n",
       "      <td>339</td>\n",
       "      <td>4</td>\n",
       "      <td>failure</td>\n",
       "      <td>no</td>\n",
       "    </tr>\n",
       "    <tr>\n",
       "      <th>2</th>\n",
       "      <td>35</td>\n",
       "      <td>management</td>\n",
       "      <td>single</td>\n",
       "      <td>tertiary</td>\n",
       "      <td>no</td>\n",
       "      <td>1350</td>\n",
       "      <td>yes</td>\n",
       "      <td>no</td>\n",
       "      <td>cellular</td>\n",
       "      <td>16</td>\n",
       "      <td>apr</td>\n",
       "      <td>185</td>\n",
       "      <td>1</td>\n",
       "      <td>330</td>\n",
       "      <td>1</td>\n",
       "      <td>failure</td>\n",
       "      <td>no</td>\n",
       "    </tr>\n",
       "    <tr>\n",
       "      <th>3</th>\n",
       "      <td>30</td>\n",
       "      <td>management</td>\n",
       "      <td>married</td>\n",
       "      <td>tertiary</td>\n",
       "      <td>no</td>\n",
       "      <td>1476</td>\n",
       "      <td>yes</td>\n",
       "      <td>yes</td>\n",
       "      <td>unknown</td>\n",
       "      <td>3</td>\n",
       "      <td>jun</td>\n",
       "      <td>199</td>\n",
       "      <td>4</td>\n",
       "      <td>-1</td>\n",
       "      <td>0</td>\n",
       "      <td>unknown</td>\n",
       "      <td>no</td>\n",
       "    </tr>\n",
       "    <tr>\n",
       "      <th>4</th>\n",
       "      <td>59</td>\n",
       "      <td>blue-collar</td>\n",
       "      <td>married</td>\n",
       "      <td>secondary</td>\n",
       "      <td>no</td>\n",
       "      <td>0</td>\n",
       "      <td>yes</td>\n",
       "      <td>no</td>\n",
       "      <td>unknown</td>\n",
       "      <td>5</td>\n",
       "      <td>may</td>\n",
       "      <td>226</td>\n",
       "      <td>1</td>\n",
       "      <td>-1</td>\n",
       "      <td>0</td>\n",
       "      <td>unknown</td>\n",
       "      <td>no</td>\n",
       "    </tr>\n",
       "  </tbody>\n",
       "</table>\n",
       "</div>"
      ],
      "text/plain": [
       "   age          job  marital  education default  balance housing loan  \\\n",
       "0   30   unemployed  married    primary      no     1787      no   no   \n",
       "1   33     services  married  secondary      no     4789     yes  yes   \n",
       "2   35   management   single   tertiary      no     1350     yes   no   \n",
       "3   30   management  married   tertiary      no     1476     yes  yes   \n",
       "4   59  blue-collar  married  secondary      no        0     yes   no   \n",
       "\n",
       "    contact  day month  duration  campaign  pdays  previous poutcome   y  \n",
       "0  cellular   19   oct        79         1     -1         0  unknown  no  \n",
       "1  cellular   11   may       220         1    339         4  failure  no  \n",
       "2  cellular   16   apr       185         1    330         1  failure  no  \n",
       "3   unknown    3   jun       199         4     -1         0  unknown  no  \n",
       "4   unknown    5   may       226         1     -1         0  unknown  no  "
      ]
     },
     "execution_count": 74,
     "metadata": {},
     "output_type": "execute_result"
    }
   ],
   "source": [
    "import pandas as pd\n",
    "from sklearn.model_selection import train_test_split\n",
    "from sklearn.preprocessing import LabelEncoder\n",
    "\n",
    "# Assuming df is your pandas DataFrame\n",
    "df = pd.read_csv(\"bank.csv\",sep=';')\n",
    "df.head()"
   ]
  },
  {
   "cell_type": "code",
   "execution_count": 77,
   "id": "768ce826",
   "metadata": {},
   "outputs": [],
   "source": [
    "\n",
    "# Label encode categorical columns\n",
    "label_cols = ['job', 'marital', 'education', 'default', 'housing', 'loan', 'contact', 'month', 'poutcome']\n",
    "label_encoders = {}\n",
    "for col in label_cols:\n",
    "    le = LabelEncoder()\n",
    "    df[col] = le.fit_transform(df[col])\n",
    "    label_encoders[col] = le\n"
   ]
  },
  {
   "cell_type": "code",
   "execution_count": 75,
   "id": "777ad554",
   "metadata": {},
   "outputs": [],
   "source": [
    "\n",
    "# Converting 'yes' to 1 and 'no' to 0\n",
    "df['y'] = df['y'].map({'yes': 1, 'no': 0})\n"
   ]
  },
  {
   "cell_type": "code",
   "execution_count": 80,
   "id": "7daf5ea7",
   "metadata": {},
   "outputs": [
    {
     "data": {
      "text/html": [
       "<div>\n",
       "<style scoped>\n",
       "    .dataframe tbody tr th:only-of-type {\n",
       "        vertical-align: middle;\n",
       "    }\n",
       "\n",
       "    .dataframe tbody tr th {\n",
       "        vertical-align: top;\n",
       "    }\n",
       "\n",
       "    .dataframe thead th {\n",
       "        text-align: right;\n",
       "    }\n",
       "</style>\n",
       "<table border=\"1\" class=\"dataframe\">\n",
       "  <thead>\n",
       "    <tr style=\"text-align: right;\">\n",
       "      <th></th>\n",
       "      <th>age</th>\n",
       "      <th>job</th>\n",
       "      <th>marital</th>\n",
       "      <th>education</th>\n",
       "      <th>default</th>\n",
       "      <th>balance</th>\n",
       "      <th>housing</th>\n",
       "      <th>loan</th>\n",
       "      <th>contact</th>\n",
       "      <th>day</th>\n",
       "      <th>month</th>\n",
       "      <th>duration</th>\n",
       "      <th>campaign</th>\n",
       "      <th>pdays</th>\n",
       "      <th>previous</th>\n",
       "      <th>poutcome</th>\n",
       "      <th>y</th>\n",
       "    </tr>\n",
       "  </thead>\n",
       "  <tbody>\n",
       "    <tr>\n",
       "      <th>0</th>\n",
       "      <td>30</td>\n",
       "      <td>10</td>\n",
       "      <td>1</td>\n",
       "      <td>0</td>\n",
       "      <td>0</td>\n",
       "      <td>1787</td>\n",
       "      <td>0</td>\n",
       "      <td>0</td>\n",
       "      <td>0</td>\n",
       "      <td>19</td>\n",
       "      <td>10</td>\n",
       "      <td>79</td>\n",
       "      <td>1</td>\n",
       "      <td>-1</td>\n",
       "      <td>0</td>\n",
       "      <td>3</td>\n",
       "      <td>0</td>\n",
       "    </tr>\n",
       "    <tr>\n",
       "      <th>1</th>\n",
       "      <td>33</td>\n",
       "      <td>7</td>\n",
       "      <td>1</td>\n",
       "      <td>1</td>\n",
       "      <td>0</td>\n",
       "      <td>4789</td>\n",
       "      <td>1</td>\n",
       "      <td>1</td>\n",
       "      <td>0</td>\n",
       "      <td>11</td>\n",
       "      <td>8</td>\n",
       "      <td>220</td>\n",
       "      <td>1</td>\n",
       "      <td>339</td>\n",
       "      <td>4</td>\n",
       "      <td>0</td>\n",
       "      <td>0</td>\n",
       "    </tr>\n",
       "    <tr>\n",
       "      <th>2</th>\n",
       "      <td>35</td>\n",
       "      <td>4</td>\n",
       "      <td>2</td>\n",
       "      <td>2</td>\n",
       "      <td>0</td>\n",
       "      <td>1350</td>\n",
       "      <td>1</td>\n",
       "      <td>0</td>\n",
       "      <td>0</td>\n",
       "      <td>16</td>\n",
       "      <td>0</td>\n",
       "      <td>185</td>\n",
       "      <td>1</td>\n",
       "      <td>330</td>\n",
       "      <td>1</td>\n",
       "      <td>0</td>\n",
       "      <td>0</td>\n",
       "    </tr>\n",
       "    <tr>\n",
       "      <th>3</th>\n",
       "      <td>30</td>\n",
       "      <td>4</td>\n",
       "      <td>1</td>\n",
       "      <td>2</td>\n",
       "      <td>0</td>\n",
       "      <td>1476</td>\n",
       "      <td>1</td>\n",
       "      <td>1</td>\n",
       "      <td>2</td>\n",
       "      <td>3</td>\n",
       "      <td>6</td>\n",
       "      <td>199</td>\n",
       "      <td>4</td>\n",
       "      <td>-1</td>\n",
       "      <td>0</td>\n",
       "      <td>3</td>\n",
       "      <td>0</td>\n",
       "    </tr>\n",
       "    <tr>\n",
       "      <th>4</th>\n",
       "      <td>59</td>\n",
       "      <td>1</td>\n",
       "      <td>1</td>\n",
       "      <td>1</td>\n",
       "      <td>0</td>\n",
       "      <td>0</td>\n",
       "      <td>1</td>\n",
       "      <td>0</td>\n",
       "      <td>2</td>\n",
       "      <td>5</td>\n",
       "      <td>8</td>\n",
       "      <td>226</td>\n",
       "      <td>1</td>\n",
       "      <td>-1</td>\n",
       "      <td>0</td>\n",
       "      <td>3</td>\n",
       "      <td>0</td>\n",
       "    </tr>\n",
       "    <tr>\n",
       "      <th>...</th>\n",
       "      <td>...</td>\n",
       "      <td>...</td>\n",
       "      <td>...</td>\n",
       "      <td>...</td>\n",
       "      <td>...</td>\n",
       "      <td>...</td>\n",
       "      <td>...</td>\n",
       "      <td>...</td>\n",
       "      <td>...</td>\n",
       "      <td>...</td>\n",
       "      <td>...</td>\n",
       "      <td>...</td>\n",
       "      <td>...</td>\n",
       "      <td>...</td>\n",
       "      <td>...</td>\n",
       "      <td>...</td>\n",
       "      <td>...</td>\n",
       "    </tr>\n",
       "    <tr>\n",
       "      <th>4516</th>\n",
       "      <td>33</td>\n",
       "      <td>7</td>\n",
       "      <td>1</td>\n",
       "      <td>1</td>\n",
       "      <td>0</td>\n",
       "      <td>-333</td>\n",
       "      <td>1</td>\n",
       "      <td>0</td>\n",
       "      <td>0</td>\n",
       "      <td>30</td>\n",
       "      <td>5</td>\n",
       "      <td>329</td>\n",
       "      <td>5</td>\n",
       "      <td>-1</td>\n",
       "      <td>0</td>\n",
       "      <td>3</td>\n",
       "      <td>0</td>\n",
       "    </tr>\n",
       "    <tr>\n",
       "      <th>4517</th>\n",
       "      <td>57</td>\n",
       "      <td>6</td>\n",
       "      <td>1</td>\n",
       "      <td>2</td>\n",
       "      <td>1</td>\n",
       "      <td>-3313</td>\n",
       "      <td>1</td>\n",
       "      <td>1</td>\n",
       "      <td>2</td>\n",
       "      <td>9</td>\n",
       "      <td>8</td>\n",
       "      <td>153</td>\n",
       "      <td>1</td>\n",
       "      <td>-1</td>\n",
       "      <td>0</td>\n",
       "      <td>3</td>\n",
       "      <td>0</td>\n",
       "    </tr>\n",
       "    <tr>\n",
       "      <th>4518</th>\n",
       "      <td>57</td>\n",
       "      <td>9</td>\n",
       "      <td>1</td>\n",
       "      <td>1</td>\n",
       "      <td>0</td>\n",
       "      <td>295</td>\n",
       "      <td>0</td>\n",
       "      <td>0</td>\n",
       "      <td>0</td>\n",
       "      <td>19</td>\n",
       "      <td>1</td>\n",
       "      <td>151</td>\n",
       "      <td>11</td>\n",
       "      <td>-1</td>\n",
       "      <td>0</td>\n",
       "      <td>3</td>\n",
       "      <td>0</td>\n",
       "    </tr>\n",
       "    <tr>\n",
       "      <th>4519</th>\n",
       "      <td>28</td>\n",
       "      <td>1</td>\n",
       "      <td>1</td>\n",
       "      <td>1</td>\n",
       "      <td>0</td>\n",
       "      <td>1137</td>\n",
       "      <td>0</td>\n",
       "      <td>0</td>\n",
       "      <td>0</td>\n",
       "      <td>6</td>\n",
       "      <td>3</td>\n",
       "      <td>129</td>\n",
       "      <td>4</td>\n",
       "      <td>211</td>\n",
       "      <td>3</td>\n",
       "      <td>1</td>\n",
       "      <td>0</td>\n",
       "    </tr>\n",
       "    <tr>\n",
       "      <th>4520</th>\n",
       "      <td>44</td>\n",
       "      <td>2</td>\n",
       "      <td>2</td>\n",
       "      <td>2</td>\n",
       "      <td>0</td>\n",
       "      <td>1136</td>\n",
       "      <td>1</td>\n",
       "      <td>1</td>\n",
       "      <td>0</td>\n",
       "      <td>3</td>\n",
       "      <td>0</td>\n",
       "      <td>345</td>\n",
       "      <td>2</td>\n",
       "      <td>249</td>\n",
       "      <td>7</td>\n",
       "      <td>1</td>\n",
       "      <td>0</td>\n",
       "    </tr>\n",
       "  </tbody>\n",
       "</table>\n",
       "<p>4521 rows × 17 columns</p>\n",
       "</div>"
      ],
      "text/plain": [
       "      age  job  marital  education  default  balance  housing  loan  contact  \\\n",
       "0      30   10        1          0        0     1787        0     0        0   \n",
       "1      33    7        1          1        0     4789        1     1        0   \n",
       "2      35    4        2          2        0     1350        1     0        0   \n",
       "3      30    4        1          2        0     1476        1     1        2   \n",
       "4      59    1        1          1        0        0        1     0        2   \n",
       "...   ...  ...      ...        ...      ...      ...      ...   ...      ...   \n",
       "4516   33    7        1          1        0     -333        1     0        0   \n",
       "4517   57    6        1          2        1    -3313        1     1        2   \n",
       "4518   57    9        1          1        0      295        0     0        0   \n",
       "4519   28    1        1          1        0     1137        0     0        0   \n",
       "4520   44    2        2          2        0     1136        1     1        0   \n",
       "\n",
       "      day  month  duration  campaign  pdays  previous  poutcome  y  \n",
       "0      19     10        79         1     -1         0         3  0  \n",
       "1      11      8       220         1    339         4         0  0  \n",
       "2      16      0       185         1    330         1         0  0  \n",
       "3       3      6       199         4     -1         0         3  0  \n",
       "4       5      8       226         1     -1         0         3  0  \n",
       "...   ...    ...       ...       ...    ...       ...       ... ..  \n",
       "4516   30      5       329         5     -1         0         3  0  \n",
       "4517    9      8       153         1     -1         0         3  0  \n",
       "4518   19      1       151        11     -1         0         3  0  \n",
       "4519    6      3       129         4    211         3         1  0  \n",
       "4520    3      0       345         2    249         7         1  0  \n",
       "\n",
       "[4521 rows x 17 columns]"
      ]
     },
     "execution_count": 80,
     "metadata": {},
     "output_type": "execute_result"
    }
   ],
   "source": [
    "df"
   ]
  },
  {
   "cell_type": "code",
   "execution_count": 79,
   "id": "8b6bbca7",
   "metadata": {},
   "outputs": [],
   "source": [
    "\n",
    "# Splitting data into features (X) and target (y)\n",
    "y = df['y']\n",
    "X = df.drop('y', axis=1)\n",
    "\n",
    "# Splitting data into training and testing sets\n",
    "X_train, X_test, y_train, y_test = train_test_split(X, y, test_size=0.2, random_state=42)\n",
    "\n"
   ]
  },
  {
   "cell_type": "code",
   "execution_count": 28,
   "id": "d4323e0b",
   "metadata": {},
   "outputs": [
    {
     "data": {
      "text/html": [
       "<div>\n",
       "<style scoped>\n",
       "    .dataframe tbody tr th:only-of-type {\n",
       "        vertical-align: middle;\n",
       "    }\n",
       "\n",
       "    .dataframe tbody tr th {\n",
       "        vertical-align: top;\n",
       "    }\n",
       "\n",
       "    .dataframe thead th {\n",
       "        text-align: right;\n",
       "    }\n",
       "</style>\n",
       "<table border=\"1\" class=\"dataframe\">\n",
       "  <thead>\n",
       "    <tr style=\"text-align: right;\">\n",
       "      <th></th>\n",
       "      <th>age</th>\n",
       "      <th>job</th>\n",
       "      <th>marital</th>\n",
       "      <th>education</th>\n",
       "      <th>default</th>\n",
       "      <th>balance</th>\n",
       "      <th>housing</th>\n",
       "      <th>loan</th>\n",
       "      <th>contact</th>\n",
       "      <th>day</th>\n",
       "      <th>month</th>\n",
       "      <th>duration</th>\n",
       "      <th>campaign</th>\n",
       "      <th>pdays</th>\n",
       "      <th>previous</th>\n",
       "      <th>poutcome</th>\n",
       "    </tr>\n",
       "  </thead>\n",
       "  <tbody>\n",
       "    <tr>\n",
       "      <th>978</th>\n",
       "      <td>34</td>\n",
       "      <td>2</td>\n",
       "      <td>0</td>\n",
       "      <td>2</td>\n",
       "      <td>0</td>\n",
       "      <td>262</td>\n",
       "      <td>0</td>\n",
       "      <td>0</td>\n",
       "      <td>0</td>\n",
       "      <td>20</td>\n",
       "      <td>9</td>\n",
       "      <td>371</td>\n",
       "      <td>1</td>\n",
       "      <td>-1</td>\n",
       "      <td>0</td>\n",
       "      <td>3</td>\n",
       "    </tr>\n",
       "    <tr>\n",
       "      <th>251</th>\n",
       "      <td>32</td>\n",
       "      <td>4</td>\n",
       "      <td>1</td>\n",
       "      <td>2</td>\n",
       "      <td>0</td>\n",
       "      <td>2349</td>\n",
       "      <td>0</td>\n",
       "      <td>0</td>\n",
       "      <td>0</td>\n",
       "      <td>14</td>\n",
       "      <td>1</td>\n",
       "      <td>134</td>\n",
       "      <td>5</td>\n",
       "      <td>-1</td>\n",
       "      <td>0</td>\n",
       "      <td>3</td>\n",
       "    </tr>\n",
       "    <tr>\n",
       "      <th>3139</th>\n",
       "      <td>34</td>\n",
       "      <td>9</td>\n",
       "      <td>2</td>\n",
       "      <td>1</td>\n",
       "      <td>0</td>\n",
       "      <td>1076</td>\n",
       "      <td>0</td>\n",
       "      <td>0</td>\n",
       "      <td>0</td>\n",
       "      <td>8</td>\n",
       "      <td>1</td>\n",
       "      <td>70</td>\n",
       "      <td>2</td>\n",
       "      <td>-1</td>\n",
       "      <td>0</td>\n",
       "      <td>3</td>\n",
       "    </tr>\n",
       "    <tr>\n",
       "      <th>1822</th>\n",
       "      <td>31</td>\n",
       "      <td>4</td>\n",
       "      <td>1</td>\n",
       "      <td>2</td>\n",
       "      <td>0</td>\n",
       "      <td>156</td>\n",
       "      <td>0</td>\n",
       "      <td>0</td>\n",
       "      <td>0</td>\n",
       "      <td>13</td>\n",
       "      <td>1</td>\n",
       "      <td>657</td>\n",
       "      <td>7</td>\n",
       "      <td>-1</td>\n",
       "      <td>0</td>\n",
       "      <td>3</td>\n",
       "    </tr>\n",
       "    <tr>\n",
       "      <th>4445</th>\n",
       "      <td>46</td>\n",
       "      <td>1</td>\n",
       "      <td>1</td>\n",
       "      <td>0</td>\n",
       "      <td>0</td>\n",
       "      <td>258</td>\n",
       "      <td>1</td>\n",
       "      <td>0</td>\n",
       "      <td>2</td>\n",
       "      <td>27</td>\n",
       "      <td>8</td>\n",
       "      <td>217</td>\n",
       "      <td>1</td>\n",
       "      <td>-1</td>\n",
       "      <td>0</td>\n",
       "      <td>3</td>\n",
       "    </tr>\n",
       "  </tbody>\n",
       "</table>\n",
       "</div>"
      ],
      "text/plain": [
       "      age  job  marital  education  default  balance  housing  loan  contact  \\\n",
       "978    34    2        0          2        0      262        0     0        0   \n",
       "251    32    4        1          2        0     2349        0     0        0   \n",
       "3139   34    9        2          1        0     1076        0     0        0   \n",
       "1822   31    4        1          2        0      156        0     0        0   \n",
       "4445   46    1        1          0        0      258        1     0        2   \n",
       "\n",
       "      day  month  duration  campaign  pdays  previous  poutcome  \n",
       "978    20      9       371         1     -1         0         3  \n",
       "251    14      1       134         5     -1         0         3  \n",
       "3139    8      1        70         2     -1         0         3  \n",
       "1822   13      1       657         7     -1         0         3  \n",
       "4445   27      8       217         1     -1         0         3  "
      ]
     },
     "execution_count": 28,
     "metadata": {},
     "output_type": "execute_result"
    }
   ],
   "source": [
    "X_train.head()"
   ]
  },
  {
   "cell_type": "code",
   "execution_count": 82,
   "id": "40ee9cfc",
   "metadata": {},
   "outputs": [],
   "source": [
    "X_train = X_train.fillna(X_train.mean())\n",
    "X_test = X_test.fillna(X_test.mean())\n",
    "y_train = y_train.fillna(y_train.mean())\n"
   ]
  },
  {
   "cell_type": "code",
   "execution_count": 84,
   "id": "ff2c1aa2",
   "metadata": {},
   "outputs": [
    {
     "name": "stdout",
     "output_type": "stream",
     "text": [
      "Model accuracy: 0.8883977900552487\n"
     ]
    },
    {
     "name": "stderr",
     "output_type": "stream",
     "text": [
      "/Users/yetao/opt/miniconda3/lib/python3.9/site-packages/sklearn/linear_model/_logistic.py:763: ConvergenceWarning: lbfgs failed to converge (status=1):\n",
      "STOP: TOTAL NO. of ITERATIONS REACHED LIMIT.\n",
      "\n",
      "Increase the number of iterations (max_iter) or scale the data as shown in:\n",
      "    https://scikit-learn.org/stable/modules/preprocessing.html\n",
      "Please also refer to the documentation for alternative solver options:\n",
      "    https://scikit-learn.org/stable/modules/linear_model.html#logistic-regression\n",
      "  n_iter_i = _check_optimize_result(\n"
     ]
    }
   ],
   "source": [
    "from sklearn.linear_model import LogisticRegression\n",
    "from sklearn.metrics import accuracy_score\n",
    "\n",
    "# Initialize and train the logistic regression model\n",
    "model = LogisticRegression()\n",
    "model.fit(X_train, y_train)\n",
    "\n",
    "# Predict on the test set\n",
    "y_pred = model.predict(X_test)\n",
    "\n",
    "# Calculate the accuracy of the model\n",
    "accuracy = accuracy_score(y_test, y_pred)\n",
    "print(f\"Model accuracy: {accuracy}\")\n"
   ]
  },
  {
   "cell_type": "code",
   "execution_count": 117,
   "id": "def30093",
   "metadata": {},
   "outputs": [
    {
     "data": {
      "text/html": [
       "<div>\n",
       "<style scoped>\n",
       "    .dataframe tbody tr th:only-of-type {\n",
       "        vertical-align: middle;\n",
       "    }\n",
       "\n",
       "    .dataframe tbody tr th {\n",
       "        vertical-align: top;\n",
       "    }\n",
       "\n",
       "    .dataframe thead th {\n",
       "        text-align: right;\n",
       "    }\n",
       "</style>\n",
       "<table border=\"1\" class=\"dataframe\">\n",
       "  <thead>\n",
       "    <tr style=\"text-align: right;\">\n",
       "      <th></th>\n",
       "      <th>age</th>\n",
       "      <th>job</th>\n",
       "      <th>marital</th>\n",
       "      <th>education</th>\n",
       "      <th>default</th>\n",
       "      <th>balance</th>\n",
       "      <th>housing</th>\n",
       "      <th>loan</th>\n",
       "      <th>contact</th>\n",
       "      <th>day</th>\n",
       "      <th>month</th>\n",
       "      <th>duration</th>\n",
       "      <th>campaign</th>\n",
       "      <th>pdays</th>\n",
       "      <th>previous</th>\n",
       "      <th>poutcome</th>\n",
       "    </tr>\n",
       "  </thead>\n",
       "  <tbody>\n",
       "    <tr>\n",
       "      <th>800</th>\n",
       "      <td>50</td>\n",
       "      <td>4</td>\n",
       "      <td>1</td>\n",
       "      <td>2</td>\n",
       "      <td>0</td>\n",
       "      <td>2881</td>\n",
       "      <td>0</td>\n",
       "      <td>0</td>\n",
       "      <td>0</td>\n",
       "      <td>5</td>\n",
       "      <td>1</td>\n",
       "      <td>510</td>\n",
       "      <td>2</td>\n",
       "      <td>2</td>\n",
       "      <td>5</td>\n",
       "      <td>1</td>\n",
       "    </tr>\n",
       "  </tbody>\n",
       "</table>\n",
       "</div>"
      ],
      "text/plain": [
       "     age  job  marital  education  default  balance  housing  loan  contact  \\\n",
       "800   50    4        1          2        0     2881        0     0        0   \n",
       "\n",
       "     day  month  duration  campaign  pdays  previous  poutcome  \n",
       "800    5      1       510         2      2         5         1  "
      ]
     },
     "execution_count": 117,
     "metadata": {},
     "output_type": "execute_result"
    }
   ],
   "source": [
    "# test case\n",
    "# A single test case\n",
    "test_case = X_test.iloc[[1]]\n",
    "test_case"
   ]
  },
  {
   "cell_type": "code",
   "execution_count": 118,
   "id": "2651c017",
   "metadata": {},
   "outputs": [
    {
     "name": "stdout",
     "output_type": "stream",
     "text": [
      "The prediction is: Divorced\n"
     ]
    }
   ],
   "source": [
    "\n",
    "prediction = model.predict(test_case)\n",
    "print(f\"The prediction is: {'Divorced' if prediction[0] == 1 else 'Not Divorced'}\")\n",
    "\n"
   ]
  }
 ],
 "metadata": {
  "kernelspec": {
   "display_name": "Python 3 (ipykernel)",
   "language": "python",
   "name": "python3"
  },
  "language_info": {
   "codemirror_mode": {
    "name": "ipython",
    "version": 3
   },
   "file_extension": ".py",
   "mimetype": "text/x-python",
   "name": "python",
   "nbconvert_exporter": "python",
   "pygments_lexer": "ipython3",
   "version": "3.9.5"
  }
 },
 "nbformat": 4,
 "nbformat_minor": 5
}
