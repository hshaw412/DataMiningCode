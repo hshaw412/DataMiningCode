{
 "cells": [
  {
   "cell_type": "markdown",
   "metadata": {},
   "source": [
    "### Hello World\n",
    "use print() to output the hello world clause\n",
    "\n",
    "print() is a Python function that displays the value passed to it on the screen. We call functions by putting parentheses after their name, and putting the inputs (or arguments) to the function in those parentheses."
   ]
  },
  {
   "cell_type": "code",
   "execution_count": 1,
   "metadata": {},
   "outputs": [
    {
     "name": "stdout",
     "output_type": "stream",
     "text": [
      "Hello World!\n"
     ]
    }
   ],
   "source": [
    "print('Hello World!')"
   ]
  },
  {
   "cell_type": "markdown",
   "metadata": {},
   "source": [
    "##### first program\n",
    "\n",
    "this our first program."
   ]
  },
  {
   "cell_type": "markdown",
   "metadata": {},
   "source": [
    "### Comment\n",
    "\n",
    "Comments are lines that exist in computer programs that are ignored by compilers and interpreters. They provide notes or reminders to the person reading the code and are not executed. In Python, any text following the '#' symbol is considered a comment. Comments can be used to explain Python code, make the code more readable, or prevent execution when testing code."
   ]
  },
  {
   "cell_type": "code",
   "execution_count": 2,
   "metadata": {},
   "outputs": [
    {
     "name": "stdout",
     "output_type": "stream",
     "text": [
      "Hello World!\n"
     ]
    }
   ],
   "source": [
    "# use the well note to add comment\n",
    "print('Hello World!')"
   ]
  },
  {
   "cell_type": "markdown",
   "metadata": {},
   "source": [
    "### Variable\n",
    "\n",
    "A variable in Python is a reserved memory location to store values. To assign a value to a variable, you use the equal sign ('='), = is the assignment operator."
   ]
  },
  {
   "cell_type": "code",
   "execution_count": 3,
   "metadata": {},
   "outputs": [
    {
     "name": "stdout",
     "output_type": "stream",
     "text": [
      "the value stored in x:  hello world\n",
      "the value stored in x_1:  20\n"
     ]
    }
   ],
   "source": [
    "# define the Variable and assign a value into it\n",
    "x = 'hello world'\n",
    "x_1 = 20\n",
    "print('the value stored in x: ', x)\n",
    "print('the value stored in x_1: ',x_1)"
   ]
  },
  {
   "cell_type": "code",
   "execution_count": 4,
   "metadata": {},
   "outputs": [
    {
     "name": "stdout",
     "output_type": "stream",
     "text": [
      "the value stored in x_1:  1\n"
     ]
    }
   ],
   "source": [
    "x_1 = 1 \n",
    "print('the value stored in x_1: ',x_1)"
   ]
  },
  {
   "cell_type": "markdown",
   "metadata": {},
   "source": [
    "### Data Type\n",
    "Text Type:\tstr  \n",
    "Numeric Types:\tint, float, complex  \n",
    "Sequence Types:\tlist, tuple, range  \n",
    "Mapping Type:\tdict  \n",
    "Set Types:\tset, frozenset  \n",
    "Boolean Type:\tbool  \n",
    "Binary Types:\tbytes, bytearray, memoryview  \n",
    "\n",
    "##### we use a buildin function type() to show the data type of a variable"
   ]
  },
  {
   "cell_type": "code",
   "execution_count": 5,
   "metadata": {},
   "outputs": [
    {
     "data": {
      "text/plain": [
       "int"
      ]
     },
     "execution_count": 5,
     "metadata": {},
     "output_type": "execute_result"
    }
   ],
   "source": [
    "x = 5\n",
    "type(x)"
   ]
  },
  {
   "cell_type": "code",
   "execution_count": 6,
   "metadata": {},
   "outputs": [
    {
     "data": {
      "text/plain": [
       "float"
      ]
     },
     "execution_count": 6,
     "metadata": {},
     "output_type": "execute_result"
    }
   ],
   "source": [
    "x = 5.5\n",
    "type(x)"
   ]
  },
  {
   "cell_type": "code",
   "execution_count": 7,
   "metadata": {},
   "outputs": [
    {
     "data": {
      "text/plain": [
       "bool"
      ]
     },
     "execution_count": 7,
     "metadata": {},
     "output_type": "execute_result"
    }
   ],
   "source": [
    "x = True\n",
    "type(x)"
   ]
  },
  {
   "cell_type": "code",
   "execution_count": 8,
   "metadata": {},
   "outputs": [
    {
     "data": {
      "text/plain": [
       "str"
      ]
     },
     "execution_count": 8,
     "metadata": {},
     "output_type": "execute_result"
    }
   ],
   "source": [
    "x = 'data mining'\n",
    "type(x)"
   ]
  },
  {
   "cell_type": "code",
   "execution_count": 9,
   "metadata": {},
   "outputs": [
    {
     "data": {
      "text/plain": [
       "list"
      ]
     },
     "execution_count": 9,
     "metadata": {},
     "output_type": "execute_result"
    }
   ],
   "source": [
    "x = [1,2,3,4]\n",
    "type(x)"
   ]
  },
  {
   "cell_type": "markdown",
   "metadata": {},
   "source": [
    "### Conditions\n",
    "In Python, conditional clauses or statements are used to execute different blocks of code based on different conditions. The main conditional statements are if, elif (stands for \"else if\"), and else. \n",
    "\n",
    "if (statement):  \n",
    "     &emsp;sentence  \n",
    "else:  \n",
    "     &emsp;sentence  \n",
    "     \n",
    "\n",
    "==, >, <, !="
   ]
  },
  {
   "cell_type": "code",
   "execution_count": 10,
   "metadata": {},
   "outputs": [
    {
     "name": "stdout",
     "output_type": "stream",
     "text": [
      "minus one:  3\n"
     ]
    }
   ],
   "source": [
    "x = 4\n",
    "if x == 5:\n",
    "    x = x + 1\n",
    "    print('plus one: ', x)\n",
    "else:\n",
    "    x = x - 1\n",
    "    print('minus one: ', x)"
   ]
  },
  {
   "cell_type": "markdown",
   "metadata": {},
   "source": [
    "### Loops\n",
    "Loops in Python are used to repeatedly execute a block of code. The two main types are for and while loops. \n",
    "\n",
    "while (statement):  \n",
    "&emsp;...  \n",
    "else:  \n",
    "&emsp;..."
   ]
  },
  {
   "cell_type": "code",
   "execution_count": 11,
   "metadata": {
    "scrolled": true
   },
   "outputs": [
    {
     "name": "stdout",
     "output_type": "stream",
     "text": [
      "still positive\n",
      "4\n",
      "still positive\n",
      "3\n",
      "still positive\n",
      "2\n",
      "still positive\n",
      "1\n",
      "still positive\n",
      "0\n",
      "negative\n"
     ]
    }
   ],
   "source": [
    "x = 5\n",
    "while x > 0:\n",
    "    print('still positive')\n",
    "    x = x - 1\n",
    "    print(x)\n",
    "else:\n",
    "    print('negative')"
   ]
  },
  {
   "cell_type": "code",
   "execution_count": 12,
   "metadata": {},
   "outputs": [
    {
     "name": "stdout",
     "output_type": "stream",
     "text": [
      "0\n",
      "1\n",
      "2\n",
      "3\n",
      "4\n",
      "5\n",
      "6\n",
      "7\n",
      "8\n",
      "9\n"
     ]
    }
   ],
   "source": [
    "for i in range(10):\n",
    "    print(i)"
   ]
  },
  {
   "cell_type": "code",
   "execution_count": 13,
   "metadata": {},
   "outputs": [
    {
     "name": "stdout",
     "output_type": "stream",
     "text": [
      "0\n",
      "1\n",
      "2\n",
      "3\n",
      "4\n",
      "5\n",
      "6\n",
      "7\n",
      "8\n",
      "9\n"
     ]
    }
   ],
   "source": [
    "for i in [0,1,2,3,4,5,6,7,8,9]:\n",
    "    print(i)\n"
   ]
  },
  {
   "cell_type": "markdown",
   "metadata": {},
   "source": [
    "### Data Structure:\n",
    "Python offers several built-in data structures to store and manipulate data, including:\n",
    "\n",
    "1. Lists: Ordered, mutable collections of items, defined with square brackets []. Example: my_list = [1, 'two', 3.0].\n",
    "\n",
    "2. Tuples: Ordered, immutable collections, defined with parentheses (). Example: my_tuple = (1, 'two', 3.0).\n",
    "\n",
    "3. Dictionaries: Unordered collections of key-value pairs, defined with curly braces {}. Example: my_dict = {'one': 1, 'two': 2, 'three': 3}.\n",
    "\n",
    "4. Sets: Unordered collections of unique elements, also defined with curly braces {}. Example: my_set = {1, 2, 3}.\n"
   ]
  },
  {
   "cell_type": "code",
   "execution_count": 14,
   "metadata": {},
   "outputs": [
    {
     "name": "stdout",
     "output_type": "stream",
     "text": [
      "[1, 2, 3, 4, 5, 6]\n"
     ]
    }
   ],
   "source": [
    "list = [1,2,3,4,5,6]\n",
    "print(list)"
   ]
  },
  {
   "cell_type": "code",
   "execution_count": 15,
   "metadata": {},
   "outputs": [
    {
     "name": "stdout",
     "output_type": "stream",
     "text": [
      "(1, 2, 3, 4)\n"
     ]
    }
   ],
   "source": [
    "tuple_a = (1,2,3,4)\n",
    "print(tuple_a)"
   ]
  },
  {
   "cell_type": "code",
   "execution_count": 16,
   "metadata": {},
   "outputs": [
    {
     "name": "stdout",
     "output_type": "stream",
     "text": [
      "{'a': [1, 2, 3], 'b': 'banana', 'c': 'cat'}\n"
     ]
    }
   ],
   "source": [
    "dictionary = {'a': [1,2,3], 'b': 'banana', 'c': 'cat'}\n",
    "print(dictionary)"
   ]
  },
  {
   "cell_type": "code",
   "execution_count": 17,
   "metadata": {},
   "outputs": [
    {
     "data": {
      "text/plain": [
       "'banana'"
      ]
     },
     "execution_count": 17,
     "metadata": {},
     "output_type": "execute_result"
    }
   ],
   "source": [
    "dictionary['b']"
   ]
  },
  {
   "cell_type": "markdown",
   "metadata": {},
   "source": [
    "### Import & Packages:\n",
    "In Python, import is a keyword used to include external modules or packages into your current program, granting access to additional functions, methods, or attributes defined in those modules. For instance, import math includes the math module, and math.sqrt(4) can then be used to calculate the square root of 4.\n",
    "\n",
    "A package in Python is a way of organizing related modules into a directory hierarchy. Essentially, it's a directory that contains multiple module files (with .py extension) and a special __init__.py file to indicate that the directory is a package. Packages can be nested to create sub-packages. They are used to structure large projects in a clean and maintainable way."
   ]
  },
  {
   "cell_type": "code",
   "execution_count": 18,
   "metadata": {},
   "outputs": [],
   "source": [
    "# A list wait to sort\n",
    "list1 = [1,3,4,2,5,6,2,5,4,6,10,7,11,15,4,2,4,7,6]\n"
   ]
  },
  {
   "cell_type": "code",
   "execution_count": 19,
   "metadata": {},
   "outputs": [],
   "source": [
    "# if without import, we would like to write some codes to sort the list\n",
    "def quickSort(arr, low, high):\n",
    "    if low < high:\n",
    "        i = partition(arr, low, high)\n",
    "        quickSort(arr, low, i - 1)\n",
    "        quickSort(arr, i + 1, high)\n",
    "    return arr\n",
    "\n",
    "def partition(arr, low, high):\n",
    "    pivot = arr[high]\n",
    "    i = low\n",
    "    for j in range(low, high):\n",
    "        if arr[j] < pivot:\n",
    "            swap(arr, i, j)\n",
    "            i += 1\n",
    "    swap(arr,i,high)\n",
    "    return i\n",
    "\n",
    "def swap(arr, i, j):\n",
    "    if i > len(arr) or j > len(arr) or i < 0 or j < 0:\n",
    "        print('error')\n",
    "    if i != j:\n",
    "        arr[i],arr[j] = arr[j],arr[i]\n",
    "\n",
    "    return arr"
   ]
  },
  {
   "cell_type": "code",
   "execution_count": 20,
   "metadata": {},
   "outputs": [
    {
     "data": {
      "text/plain": [
       "[1, 2, 2, 2, 3, 4, 4, 4, 4, 5, 5, 6, 6, 6, 7, 7, 10, 11, 15]"
      ]
     },
     "execution_count": 20,
     "metadata": {},
     "output_type": "execute_result"
    }
   ],
   "source": [
    "quickSort(list1, 0, len(list1) - 1)"
   ]
  },
  {
   "cell_type": "code",
   "execution_count": 21,
   "metadata": {},
   "outputs": [
    {
     "data": {
      "text/plain": [
       "array([ 1,  2,  2,  2,  3,  4,  4,  4,  4,  5,  5,  6,  6,  6,  7,  7, 10,\n",
       "       11, 15])"
      ]
     },
     "execution_count": 21,
     "metadata": {},
     "output_type": "execute_result"
    }
   ],
   "source": [
    "# if import, only two lines!\n",
    "import numpy as np\n",
    "np.sort(list1, kind = 'mergesort')"
   ]
  },
  {
   "cell_type": "code",
   "execution_count": null,
   "metadata": {},
   "outputs": [],
   "source": []
  }
 ],
 "metadata": {
  "kernelspec": {
   "display_name": "Python 3 (ipykernel)",
   "language": "python",
   "name": "python3"
  },
  "language_info": {
   "codemirror_mode": {
    "name": "ipython",
    "version": 3
   },
   "file_extension": ".py",
   "mimetype": "text/x-python",
   "name": "python",
   "nbconvert_exporter": "python",
   "pygments_lexer": "ipython3",
   "version": "3.12.4"
  }
 },
 "nbformat": 4,
 "nbformat_minor": 4
}
