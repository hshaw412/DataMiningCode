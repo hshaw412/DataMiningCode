{
 "cells": [
  {
   "cell_type": "markdown",
   "metadata": {},
   "source": [
    "<center><font size=\"10\">3804ICT/3031ICT/7031ICT Data Mining</font></center> <br>\n",
    "<center><font size=\"8\">Workshop/Lab Week 2</font></center> <br><br>\n",
    "<center><font size=\"6\">by Dr Can Wang</font></center> <br><br>"
   ]
  },
  {
   "cell_type": "markdown",
   "metadata": {},
   "source": [
    "# Activity Set 1: Find solutions to the following problems [<font color=red>Individual Activity</font>]\n",
    "## 1. Data Exploration\n",
    "### Question Set 1 (20 mins)\n",
    "<p>Suppose that the data for analysis includes the attribute age. The age values for the data tuples are (in increasing order) (13, 15, 16, 16, 19, 20, 20, 21, 22, 22, 25, 25, 25, 25, 30, 33, 33, 35, 35, 35, 35, 36, 40, 45, 46, 52, 70). Given the data, answer the following questions:<br>\n",
    "<ol>\n",
    "    <li>What is the mean of the data? What is the median? What is the variance? (5 mins)</li><br>\n",
    "    <li>Can you find the first quartile (Q1) and the third quartile (Q3) of the data? (3 mins)</li><br>\n",
    "    <li>Give the five-number summary of the data. (2 mins)</li><br>\n",
    "    <li>Please use Python with neccessary libraries to validate your results of (1), (2), and (3) below. Also, use \"matplotlib\" to draw a box plot of the age data. (10 mins)</li><br>\n",
    "</ol>\n",
    "</p>"
   ]
  },
  {
   "cell_type": "code",
   "execution_count": 23,
   "metadata": {},
   "outputs": [],
   "source": [
    "# import neccessary libs and load the age data in this code cell\n",
    "import numpy as np\n",
    "import pandas as pd\n",
    "import matplotlib.pyplot as plt\n",
    "\n",
    "ages = np.array((13, 15, 16, 16, 19, 20, 20, 21, 22, 22, 25, 25, 25, 30, 33, 33, 35, 35, 35, 35, 36, 40, 45, 46, 52, 70))\n",
    "ages_df = pd.DataFrame({\"Age\": ages})"
   ]
  },
  {
   "cell_type": "code",
   "execution_count": 24,
   "metadata": {},
   "outputs": [
    {
     "name": "stdout",
     "output_type": "stream",
     "text": [
      "Mean = 30.153846153846153\n",
      "Median = 27.5\n",
      "Variance = 166.5147928994083\n"
     ]
    }
   ],
   "source": [
    "# calculate mean, median, variance values of data  in this code cell\n",
    "mean = np.mean(ages)\n",
    "median = np.median(ages)\n",
    "variance = np.var(ages)\n",
    "print(f\"Mean = {mean}\\nMedian = {median}\\nVariance = {variance}\")"
   ]
  },
  {
   "cell_type": "code",
   "execution_count": 25,
   "metadata": {},
   "outputs": [
    {
     "name": "stdout",
     "output_type": "stream",
     "text": [
      "Five Number Summary:\n",
      "Min = 13\n",
      "Q1 = 20.25\n",
      "Median = 27.5\n",
      "Q3 = 35.0\n",
      "Max = 70\n"
     ]
    }
   ],
   "source": [
    "# calculate Q1, Q2, Q3, and display the five-number summary of the data in this code cell\n",
    "quartiles = ages_df[\"Age\"].quantile(q=[0.25, 0.5, 0.75])\n",
    "min, max = ages.min(), ages.max()\n",
    "print(f\"Five Number Summary:\\nMin = {min}\\nQ1 = {quartiles[0.25]}\\nMedian = {quartiles[0.5]}\\nQ3 = {quartiles[0.75]}\\nMax = {max}\")"
   ]
  },
  {
   "cell_type": "code",
   "execution_count": 95,
   "metadata": {},
   "outputs": [
    {
     "data": {
      "image/png": "[encoded data removed]",
      "text/plain": [
       "<Figure size 640x480 with 1 Axes>"
      ]
     },
     "metadata": {},
     "output_type": "display_data"
    }
   ],
   "source": [
    "# use matplotlib to draw a plot box of the given data in this cell.\n",
    "# more details of the drawing method can be found here:\n",
    "# Documentation: https://matplotlib.org/api/_as_gen/matplotlib.pyplot.boxplot.html?highlight=boxplot#matplotlib.pyplot.boxplot\n",
    "# Example: https://matplotlib.org/gallery/statistics/boxplot_demo.html\n",
    "plt.boxplot(ages)\n",
    "plt.title(f\"boxplot\")\n",
    "plt.show()"
   ]
  },
  {
   "cell_type": "markdown",
   "metadata": {},
   "source": [
    "### Question Set 2 (20 mins)\n",
    "<p>Review the calculation method of approximated median in lecture slides (pages 10-11) and try to answer the following questions:<br>\n",
    "<ol>\n",
    "    <li>Why we need to approximately calculate median value of data? (2 mins)</li><br>  \n",
    "    <li>Given the age data in <b>Question Set 1</b>, please calculate the approximated median value. (12 mins) <br>\n",
    "        NOTE: age data can be divided into three intervals: a). $\\leq 20$, b). $[21,30]$ c). $\\geq 31$</li><br>\n",
    "    <li>Compare the approximated median with the real median. (1 mins)</li><br>\n",
    "    <li>Draw the histogram of age data with different number of bins. (5 mins)</li>\n",
    "</ol>\n",
    "</p>"
   ]
  },
  {
   "cell_type": "markdown",
   "metadata": {},
   "source": [
    "Q1 Answer: For large datasets calculating the median can be very expensive"
   ]
  },
  {
   "cell_type": "code",
   "execution_count": 30,
   "metadata": {},
   "outputs": [
    {
     "name": "stdout",
     "output_type": "stream",
     "text": [
      "Approximate median = 28.714285714285715\n"
     ]
    }
   ],
   "source": [
    "# 0-20 | 21-30 | 31-infinity\n",
    "# ages = (13, 15, 16, 16, 19, 20, 20, 21, 22, 22, 25, 25, 25, 30, 33, 33, 35, 35, 35, 35, 36, 40, 45, 46, 52, 70)\n",
    "lower_bound = 21\n",
    "N = ages.size\n",
    "frequencies = [0, 0, 0]\n",
    "for age in ages:\n",
    "    if age <= 20:\n",
    "        frequencies[0] += 1\n",
    "    elif age >= 31:\n",
    "        frequencies[2] += 1\n",
    "    else:\n",
    "        frequencies[1] += 1\n",
    "lower_frequencies = frequencies[0]\n",
    "median_frequency = frequencies[1]\n",
    "width = 30 - 21\n",
    "\n",
    "approx_median = lower_bound + ((N/2 - lower_frequencies)/median_frequency) * width\n",
    "\n",
    "print(f\"Approximate median = {approx_median}\")"
   ]
  },
  {
   "cell_type": "code",
   "execution_count": 31,
   "metadata": {},
   "outputs": [
    {
     "data": {
      "text/plain": [
       "(array([13.,  9.,  3.,  1.]),\n",
       " array([13.  , 27.25, 41.5 , 55.75, 70.  ]),\n",
       " <BarContainer object of 4 artists>)"
      ]
     },
     "execution_count": 31,
     "metadata": {},
     "output_type": "execute_result"
    },
    {
     "data": {
      "image/png": "[encoded data removed]",
      "text/plain": [
       "<Figure size 640x480 with 1 Axes>"
      ]
     },
     "metadata": {},
     "output_type": "display_data"
    }
   ],
   "source": [
    "# use matplotlib to draw a histogram of the age data, and try to use different number of bins.\n",
    "# documentation: https://matplotlib.org/api/_as_gen/matplotlib.pyplot.hist.html\n",
    "# example: https://matplotlib.org/1.2.1/examples/pylab_examples/histogram_demo.html\n",
    "plt.hist(ages_df, 4)"
   ]
  },
  {
   "cell_type": "markdown",
   "metadata": {},
   "source": [
    "### Question Set 3 (20 mins)\n",
    "<p>Review the measurements dissimilarity and similarity in lecture sides (pages 34-39) and try to answer the following questions:\n",
    "<br>\n",
    "<ol>\n",
    "    <li>Briefly describe what are similarity and dissimilarity between objects? (3 mins)</li><br>\n",
    "    <li>How to represent similarity/dissimilarity among $n$ data objects? Please describe the characteristics of the representation. (3 mins)</li><br>\n",
    "    <li>Give three data objects in the following table, each of which only has categorical features, calculate the dissimilarity between these objects. (5 mins) <br>\n",
    "    <table style=\"width:80%\">\n",
    "      <tr><th>student_id</th><th>gender</th><th>living_region</th><th>degree</th><th>major</th><th>country</th><th>scholarship</th><th>tutor</th><th>current_yea</th></tr>      \n",
    "      <tr><th>1001</th><th>M</th><th>A</th><th>bachelor</th><th>it</th><th>domestic</th><th>Y</th><th>N</th><th>1</th></tr>\n",
    "<tr><th>1002</th><th>F</th><th>B</th><th>bachelor</th><th>arts</th><th>international</th><th>Y</th><th>Y</th><th>3</th></tr>\n",
    "      <tr><th>1003</th><th>F</th><th>A</th><th>master</th><th>engineering</th><th>domestic</th><th>Y</th><th>Y</th><th>1</th></tr>\n",
    "      <tr><th>1004</th><th>M</th><th>C</th><th>master</th><th>it</th><th>domestic</th><th>Y</th><th>N</th><th>2</th></tr>\n",
    "    </table>    \n",
    "    Tips: calculate dis(1001,1002), dis(1001,1003), dis(1001,1004), dis(1002,1003), dis(1002,1004), dis(1003,1004) using <b>simple match</b> method.</li><br>\n",
    "    <li>Given two objects represented by the tuples (22, 1, 42, 10) and (20, 0, 36, 8), compute both the Euclidean distance and Manhattan distance between the two objects. (4 mins)</li><br>\n",
    "    <li>Given five data objects in the following table, find out the neareast point in the table to the new data point $x=(1.4,1.6)$ using Euclidean distance and Manhattan distance, respectively. (5 mins)\n",
    "    <table style=\"width:40%;border: 1px solid black;\">\n",
    "        <tr><th>data</th><th>$A_1$</th><th>$A_2$</th></tr>\n",
    "        <tr><th>$x_1$</th><th>1.5</th><th>1.7</th></tr>\n",
    "        <tr><th>$x_2$</th><th>2</th><th>1.9</th></tr>\n",
    "        <tr><th>$x_3$</th><th>1.6</th><th>1.8</th></tr>\n",
    "        <tr><th>$x_4$</th><th>1.2</th><th>1.5</th></tr>\n",
    "        <tr><th>$x_5$</th><th>1.5</th><th>1.0</th></tr>\n",
    "    </table> \n",
    "    </li><br>\n",
    "</ol>\n",
    "</p>"
   ]
  },
  {
   "cell_type": "markdown",
   "metadata": {},
   "source": [
    "1. Similarity is a measure of how alike two data objects are, dissimilarity is a measure of how different data objects are"
   ]
  },
  {
   "cell_type": "markdown",
   "metadata": {},
   "source": [
    "2. A matrix of n data points with p attributes"
   ]
  },
  {
   "cell_type": "code",
   "execution_count": 75,
   "metadata": {},
   "outputs": [
    {
     "data": {
      "text/html": [
       "<div>\n",
       "<style scoped>\n",
       "    .dataframe tbody tr th:only-of-type {\n",
       "        vertical-align: middle;\n",
       "    }\n",
       "\n",
       "    .dataframe tbody tr th {\n",
       "        vertical-align: top;\n",
       "    }\n",
       "\n",
       "    .dataframe thead th {\n",
       "        text-align: right;\n",
       "    }\n",
       "</style>\n",
       "<table border=\"1\" class=\"dataframe\">\n",
       "  <thead>\n",
       "    <tr style=\"text-align: right;\">\n",
       "      <th></th>\n",
       "      <th>gender</th>\n",
       "      <th>living_region</th>\n",
       "      <th>degree</th>\n",
       "      <th>major</th>\n",
       "      <th>country</th>\n",
       "      <th>scholarship</th>\n",
       "      <th>tutor</th>\n",
       "      <th>current_year</th>\n",
       "    </tr>\n",
       "    <tr>\n",
       "      <th>student_id</th>\n",
       "      <th></th>\n",
       "      <th></th>\n",
       "      <th></th>\n",
       "      <th></th>\n",
       "      <th></th>\n",
       "      <th></th>\n",
       "      <th></th>\n",
       "      <th></th>\n",
       "    </tr>\n",
       "  </thead>\n",
       "  <tbody>\n",
       "    <tr>\n",
       "      <th>1001</th>\n",
       "      <td>M</td>\n",
       "      <td>A</td>\n",
       "      <td>bachelor</td>\n",
       "      <td>it</td>\n",
       "      <td>domestic</td>\n",
       "      <td>Y</td>\n",
       "      <td>N</td>\n",
       "      <td>1</td>\n",
       "    </tr>\n",
       "    <tr>\n",
       "      <th>1002</th>\n",
       "      <td>F</td>\n",
       "      <td>B</td>\n",
       "      <td>bachelor</td>\n",
       "      <td>arts</td>\n",
       "      <td>international</td>\n",
       "      <td>Y</td>\n",
       "      <td>Y</td>\n",
       "      <td>3</td>\n",
       "    </tr>\n",
       "    <tr>\n",
       "      <th>1003</th>\n",
       "      <td>F</td>\n",
       "      <td>A</td>\n",
       "      <td>master</td>\n",
       "      <td>engineering</td>\n",
       "      <td>domestic</td>\n",
       "      <td>Y</td>\n",
       "      <td>Y</td>\n",
       "      <td>1</td>\n",
       "    </tr>\n",
       "    <tr>\n",
       "      <th>1004</th>\n",
       "      <td>M</td>\n",
       "      <td>C</td>\n",
       "      <td>master</td>\n",
       "      <td>it</td>\n",
       "      <td>domestic</td>\n",
       "      <td>Y</td>\n",
       "      <td>N</td>\n",
       "      <td>2</td>\n",
       "    </tr>\n",
       "  </tbody>\n",
       "</table>\n",
       "</div>"
      ],
      "text/plain": [
       "           gender living_region    degree        major        country  \\\n",
       "student_id                                                              \n",
       "1001            M             A  bachelor           it       domestic   \n",
       "1002            F             B  bachelor         arts  international   \n",
       "1003            F             A    master  engineering       domestic   \n",
       "1004            M             C    master           it       domestic   \n",
       "\n",
       "           scholarship tutor  current_year  \n",
       "student_id                                  \n",
       "1001                 Y     N             1  \n",
       "1002                 Y     Y             3  \n",
       "1003                 Y     Y             1  \n",
       "1004                 Y     N             2  "
      ]
     },
     "execution_count": 75,
     "metadata": {},
     "output_type": "execute_result"
    }
   ],
   "source": [
    "#3.\n",
    "df = pd.DataFrame(\n",
    "    {\n",
    "        \"student_id\": (1001, 1002, 1003, 1004),\n",
    "        \"gender\": (\"M\", \"F\", \"F\", \"M\"),\n",
    "        \"living_region\": (\"A\", \"B\", \"A\", \"C\"),\n",
    "        \"degree\": (\"bachelor\", \"bachelor\", \"master\", \"master\"),\n",
    "        \"major\": (\"it\", \"arts\", \"engineering\", \"it\"),\n",
    "        \"country\": (\"domestic\", \"international\", \"domestic\", \"domestic\"),\n",
    "        \"scholarship\": (\"Y\", \"Y\", \"Y\", \"Y\"),\n",
    "        \"tutor\": (\"N\", \"Y\", \"Y\", \"N\"),\n",
    "        \"current_year\": (1, 3, 1, 2)\n",
    "    }\n",
    ")\n",
    "df.set_index(\"student_id\")"
   ]
  },
  {
   "cell_type": "code",
   "execution_count": 76,
   "metadata": {},
   "outputs": [],
   "source": [
    "#3.\n",
    "def simple_match_dissimilarity(i, j, df):\n",
    "    no_variables = len(df.columns)\n",
    "    matches = 0\n",
    "    for column in df.columns:\n",
    "        if df.iloc[i][column] == df.iloc[j][column]:\n",
    "            matches += 1\n",
    "    return matches\n",
    "\n",
    "def calculate_dissimilarities(df):\n",
    "    dissimilarities = []\n",
    "    for i in range(len(df) - 1):\n",
    "        for j in range(i+1, len(df)):\n",
    "            dis = simple_match_dissimilarity(i, j, df)\n",
    "            dissimilarities.append(dis)\n",
    "            print(f\"dis({1001+i},{1001+j}) = {dis}\")\n",
    "    return dissimilarities"
   ]
  },
  {
   "cell_type": "code",
   "execution_count": 77,
   "metadata": {},
   "outputs": [
    {
     "name": "stdout",
     "output_type": "stream",
     "text": [
      "dis(1001,1002) = 2\n",
      "dis(1001,1003) = 4\n",
      "dis(1001,1004) = 5\n",
      "dis(1002,1003) = 3\n",
      "dis(1002,1004) = 1\n",
      "dis(1003,1004) = 3\n"
     ]
    }
   ],
   "source": [
    "#3.\n",
    "dis = calculate_dissimilarities(df)"
   ]
  },
  {
   "cell_type": "code",
   "execution_count": 83,
   "metadata": {},
   "outputs": [
    {
     "name": "stdout",
     "output_type": "stream",
     "text": [
      "Manhattan Distance = 11\n",
      "Euclidean_Distance = 6.708203932499369\n"
     ]
    }
   ],
   "source": [
    "#4.\n",
    "import math\n",
    "\n",
    "object1 = (22, 1, 42, 10)\n",
    "object2 = (20, 0, 36, 8)\n",
    "manhattan_distance = 0\n",
    "euclidean_distance = 0\n",
    "\n",
    "for i in range(len(object1)):\n",
    "    manhattan_distance += abs(object1[i] - object2[i])\n",
    "    euclidean_distance += pow(object1[i] - object2[i], 2)\n",
    "euclidean_distance = math.sqrt(euclidean_distance)\n",
    "\n",
    "print(f\"Manhattan Distance = {manhattan_distance}\")\n",
    "print(f\"Euclidean_Distance = {euclidean_distance}\")"
   ]
  },
  {
   "cell_type": "code",
   "execution_count": 98,
   "metadata": {},
   "outputs": [],
   "source": [
    "#5. \n",
    "def manhattan(obj1, obj2):\n",
    "    dist = 0\n",
    "    for i in range(len(obj1)):\n",
    "        dist += abs(obj1[i] - obj2[i])\n",
    "    return dist\n",
    "\n",
    "def euclidean(obj1, obj2):\n",
    "    dist = 0\n",
    "    for i in range(len(obj1)):\n",
    "        dist += pow(obj1[i] - obj2[i], 2)\n",
    "    dist = math.sqrt(dist)\n",
    "    return dist\n",
    "\n",
    "def find_nearest(df, point, algorithm):\n",
    "    nearest = df.iloc[0]\n",
    "    for i in range(1, len(df)):\n",
    "        if algorithm == 0:\n",
    "            if manhattan(df.iloc[i], point) < manhattan(nearest, point):\n",
    "                nearest = df.iloc[i]\n",
    "        else:\n",
    "            if euclidean(df.iloc[i], point) < euclidean(nearest, point):\n",
    "                nearest = df.iloc[i]\n",
    "    return nearest"
   ]
  },
  {
   "cell_type": "code",
   "execution_count": 99,
   "metadata": {},
   "outputs": [
    {
     "name": "stdout",
     "output_type": "stream",
     "text": [
      "A1    1.5\n",
      "A2    1.7\n",
      "Name: 0, dtype: float64\n",
      "A1    1.5\n",
      "A2    1.7\n",
      "Name: 0, dtype: float64\n"
     ]
    },
    {
     "name": "stderr",
     "output_type": "stream",
     "text": [
      "/var/folders/vl/9w9rx2q5545bh7r3xxpffqh40000gn/T/ipykernel_38168/770662592.py:5: FutureWarning: Series.__getitem__ treating keys as positions is deprecated. In a future version, integer keys will always be treated as labels (consistent with DataFrame behavior). To access a value by position, use `ser.iloc[pos]`\n",
      "  dist += abs(obj1[i] - obj2[i])\n",
      "/var/folders/vl/9w9rx2q5545bh7r3xxpffqh40000gn/T/ipykernel_38168/770662592.py:11: FutureWarning: Series.__getitem__ treating keys as positions is deprecated. In a future version, integer keys will always be treated as labels (consistent with DataFrame behavior). To access a value by position, use `ser.iloc[pos]`\n",
      "  dist += pow(obj1[i] - obj2[i], 2)\n"
     ]
    }
   ],
   "source": [
    "#5.\n",
    "df = pd.DataFrame(\n",
    "    {\n",
    "        \"A1\": (1.5, 2, 1.6, 1.2, 1.5),\n",
    "        \"A2\": (1.7, 1.9, 1.8, 1.5, 1.0)\n",
    "    }\n",
    ")\n",
    "\n",
    "point = (1.4, 1.6)\n",
    "\n",
    "print(find_nearest(df, point, 0))\n",
    "print(find_nearest(df, point, 1))"
   ]
  },
  {
   "cell_type": "markdown",
   "metadata": {},
   "source": [
    "## 2. Data Pre-processing"
   ]
  },
  {
   "cell_type": "markdown",
   "metadata": {},
   "source": [
    "### Question Set 4 (40 mins)\n",
    "Review the Data Pre-processing in lecture sides (pages 42-74) and try to answer the following questions: \n",
    "<ol>\n",
    "    <li>What are the major tasks in Data Pre-processing? (2 mins)</li><br>\n",
    "    <li>In real-world data, data with missing values for some attributes is a common occurrence. Describe possible reasons and various methods for handling this problem. (2 mins)</li><br>\n",
    "    <li>Given the age data in <b>Question Set 1</b> (13, 15, 16, 16, 19, 20, 20, 21, 22, 22, 25, 25, 25, 25, 30, 33, 33, 35, 35, 35, 35, 36, 40, 45, 46, 52, 70), please use smoothing by bin means to pre-process the data, using a bin depth of 3. Illustrate your steps. Comment on the effect of this technique for the given data and describe what other methods are available for data smoothing. (10 mins)</li><br>  \n",
    "    <li>Discuss issues to consider during data integration. (2 mins)</li><br> \n",
    "    <li>Describe the strategies of data reduction. (4 mins)</li><br>    \n",
    "    <li>What are the value ranges of the following normalization methods? (5 mins)</li>\n",
    "     <ul>\n",
    "        <li>min-max normalization</li>\n",
    "        <li>z-score normalization</li>      \n",
    "    </ul> <br>\n",
    "    <li>Given the age data in <b>Question Set 1</b> (13, 15, 16, 16, 19, 20, 20, 21, 22, 22, 25, 25, 25, 25, 30, 33, 33, 35, 35, 35, 35, 36, 40, 45, 46, 52, 70), please normalize the data with min-max normalization method. (5 mins)</li><br>\n",
    "    <li>Use z-score normalization to transform the value 35 for age, where the age mean is 29.96 and the standard deviation of age is 12.94 years. (2 mins)</li><br>\n",
    "    <li>Suppose a group of 12 sales price records has been sorted as follows: (5,10,11,13,15,35,50,55,72,92,204,215). Partition them into three bins by equal-width and equal-depth partitioning methods. (8 mins)</li>\n",
    "</ol>\n",
    "\n"
   ]
  },
  {
   "cell_type": "markdown",
   "metadata": {},
   "source": [
    "1. Data cleaning, data integration, data reduction, data transformation and data discretization"
   ]
  },
  {
   "cell_type": "markdown",
   "metadata": {},
   "source": [
    "2. During data collection instruments may be faulty or human/computer error may occur causing missing values. Some values may also be left blank on purpose to signify something. Missing data can be dealt with by deleting the entire object when an attribute is missing, filling in the missing values manually, or filling it in automatically through some means."
   ]
  },
  {
   "cell_type": "code",
   "execution_count": 119,
   "metadata": {},
   "outputs": [
    {
     "name": "stdout",
     "output_type": "stream",
     "text": [
      "14.666666666666666 14.666666666666666 14.666666666666666 18.333333333333332 18.333333333333332 18.333333333333332 21.0 21.0 21.0 24.0 24.0 24.0 29.333333333333332 29.333333333333332 29.333333333333332 34.333333333333336 34.333333333333336 34.333333333333336 35.333333333333336 35.333333333333336 35.333333333333336 43.666666666666664 43.666666666666664 43.666666666666664 61.0 61.0 "
     ]
    }
   ],
   "source": [
    "#3. \n",
    "bin_depth = 3\n",
    "bins = []\n",
    "for i in range(0, len(ages), 3):\n",
    "    bin = []\n",
    "    bin.append(ages[i])\n",
    "    if i+1 < len(ages):\n",
    "        bin.append(ages[i+1])\n",
    "    if i+2 < len(ages):\n",
    "        bin.append(ages[i+2])\n",
    "    bins.append(bin)\n",
    "\n",
    "smoothed = []\n",
    "\n",
    "for bin in bins:\n",
    "    avg = 0\n",
    "    for value in bin:\n",
    "        avg += value\n",
    "    avg = avg / len(bin)\n",
    "    for value in bin:\n",
    "        smoothed.append(avg)\n",
    "\n",
    "for value in smoothed:\n",
    "    print(f\"{value}\", end=\" \")"
   ]
  },
  {
   "cell_type": "markdown",
   "metadata": {},
   "source": [
    "4. Data conflicts may occur where there are discrepancies between two identical data points\n",
    "   may have conflicts in units i.e metic vs imperial systems\n",
    "   redundant data\n",
    "   derivable data"
   ]
  },
  {
   "cell_type": "markdown",
   "metadata": {},
   "source": [
    "5. - dimensionality reduction e.g. PCA, feature selection\n",
    "   - Aggregation and clustering, narrowing down data to clusters\n",
    "   - Sampling, choosing a subset of the data"
   ]
  },
  {
   "cell_type": "markdown",
   "metadata": {},
   "source": [
    "6. - min-max normalizations: [0.0, 1.1]\n",
    "   - z-score normalizatins: [-infinity, infinity]"
   ]
  },
  {
   "cell_type": "code",
   "execution_count": 126,
   "metadata": {},
   "outputs": [
    {
     "name": "stdout",
     "output_type": "stream",
     "text": [
      "-0.18571428571428505\n",
      "1.814285714285715\n",
      "2.814285714285715\n",
      "2.814285714285715\n",
      "5.814285714285713\n",
      "6.814285714285713\n",
      "6.814285714285713\n",
      "7.814285714285713\n",
      "8.814285714285713\n",
      "8.814285714285713\n",
      "11.814285714285713\n",
      "11.814285714285713\n",
      "11.814285714285713\n",
      "16.814285714285713\n",
      "19.814285714285717\n",
      "19.814285714285717\n",
      "21.814285714285717\n",
      "21.814285714285717\n",
      "21.814285714285717\n",
      "21.814285714285717\n",
      "22.814285714285717\n",
      "26.814285714285717\n",
      "31.814285714285717\n",
      "32.81428571428572\n",
      "38.81428571428572\n",
      "56.81428571428572\n"
     ]
    }
   ],
   "source": [
    "#7. \n",
    "\n",
    "def min_max_normalize(new_min, new_max, data):\n",
    "    normalized = []\n",
    "    for value in data:\n",
    "        normalized.append((value - np.min(data) / np.max(data) - np.min(data))*(new_max-new_min)+new_min)\n",
    "    return normalized\n",
    "\n",
    "normalized = min_max_normalize(0, 1, ages)\n",
    "\n",
    "for i in range(len(ages)):\n",
    "    print(\"{}\".format(normalized[i]))"
   ]
  },
  {
   "cell_type": "code",
   "execution_count": 128,
   "metadata": {},
   "outputs": [
    {
     "name": "stdout",
     "output_type": "stream",
     "text": [
      "0.38948995363214833\n"
     ]
    }
   ],
   "source": [
    "#8.\n",
    "mean = 29.96\n",
    "std = 12.94\n",
    "\n",
    "zscore_normalized = (35-mean)/std\n",
    "print(zscore_normalized)"
   ]
  },
  {
   "cell_type": "code",
   "execution_count": 136,
   "metadata": {},
   "outputs": [
    {
     "name": "stdout",
     "output_type": "stream",
     "text": [
      "[[5, 10, 11, 13, 15, 35, 50, 55], [72, 92], [204]]\n",
      "[[5, 10, 11, 13], [15, 35, 50, 55], [72, 92, 204, 215]]\n"
     ]
    }
   ],
   "source": [
    "sales_price = (5,10,11,13,15,35,50,55,72,92,204,215)\n",
    "\n",
    "def equal_width_bin(data, no_bins):\n",
    "    width = (np.max(data)-np.min(data))/no_bins\n",
    "    bins = []\n",
    "    for i in range(no_bins):\n",
    "        bin = []\n",
    "        min_value = i * width\n",
    "        max_value = (i+1) * width\n",
    "        for price in sales_price:\n",
    "            if price > min_value and price <= max_value:\n",
    "                bin.append(price)\n",
    "        bins.append(bin)\n",
    "    return bins\n",
    "\n",
    "print(equal_width_bin(sales_price, 3))\n",
    "\n",
    "def equal_depth_bin(data, no_bins):\n",
    "    depth = math.ceil(len(data)/no_bins)\n",
    "    bins = []\n",
    "    for i in range(0, len(data), depth):\n",
    "        bin = []\n",
    "        for j in range(depth):\n",
    "            bin.append(data[i+j])\n",
    "        bins.append(bin)\n",
    "    return bins\n",
    "            \n",
    "print(equal_depth_bin(sales_price, 3))"
   ]
  },
  {
   "cell_type": "markdown",
   "metadata": {},
   "source": [
    "# Activity Set 2: Coding Practice (extras for homework) [<font color=red>Individual Activity</font>] "
   ]
  },
  {
   "cell_type": "markdown",
   "metadata": {},
   "source": [
    "You need to code to address the following problems:\n",
    "<ol>\n",
    "    <li>Load raw_bank_data.csv dataset.</li>\n",
    "    <li>Check what types of attributes are available in the data.</li>\n",
    "    <li>Check statistical information of numerical attributes.</li>\n",
    "    <li>Check if there are missing data and noise for attributes.</li>\n",
    "    <li>Choose mean or median values to fill the missing data.</li>\n",
    "    <li>Drop those data records whose last column (\"y\") is missing.</li> \n",
    "    <li>Need to drop two columns \"day\" and \"month\".</li>\n",
    "    <li>Normalize the categorical features using one-hot method.</li>   <font color=green>  \n",
    "    <b>Below tasks are optional activities for 3031ICT/7031ICT students:   \n",
    "    <li>Use K-NN as a classifier to predict if the customer is going to have a deposit.</li>\n",
    "    <li>Normalize the data using min-max scale and then perform the K-NN above again.</li>     \n",
    "</ol>"
   ]
  }
 ],
 "metadata": {
  "kernelspec": {
   "display_name": "Python 3 (ipykernel)",
   "language": "python",
   "name": "python3"
  },
  "language_info": {
   "codemirror_mode": {
    "name": "ipython",
    "version": 3
   },
   "file_extension": ".py",
   "mimetype": "text/x-python",
   "name": "python",
   "nbconvert_exporter": "python",
   "pygments_lexer": "ipython3",
   "version": "3.12.4"
  }
 },
 "nbformat": 4,
 "nbformat_minor": 4
}
